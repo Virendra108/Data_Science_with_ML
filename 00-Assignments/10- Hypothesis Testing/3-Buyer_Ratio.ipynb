{
 "cells": [
  {
   "cell_type": "markdown",
   "id": "e8fa90f9-585b-436b-8060-4f7d99395524",
   "metadata": {},
   "source": [
    "3.Problem Satement : Sales of products in four different regions is tabulated for males and females. Find if male-female buyer rations are similar across regions.\n",
    "\r\n",
    "\n",
    "-----------------------------------------------------------------------------------------------------------------------------------------------------------"
   ]
  },
  {
   "cell_type": "markdown",
   "id": "c19110e9-2190-4280-a63b-26f52d062e2a",
   "metadata": {},
   "source": [
    "1.1 Business Objective \n",
    "\n",
    "Goal:\n",
    "\n",
    "To assess if the buyer ratios between males and females vary across different regions.\n",
    "Understanding whether the purchasing pattern remains consistent across regions can help in designing region-specific marketing strategies.\n",
    "___________________________________________________________________________________________________________________________________________________________\n",
    "\n",
    "1.2 Constraints \n",
    "\n",
    "Sampling Bias:\n",
    "Data collected might not be representative of all buyers in each region.\n",
    "\n",
    "Sample Size Limitation:\n",
    "Small sample sizes may not provide accurate inference.\n",
    "\n",
    "Data Accuracy:\n",
    "Errors in data entry could impact the outcome of the test.\n",
    "\n",
    "Time Sensitivity:\n",
    "Business decisions may need to be made quickly, requiring timely analysis.\n",
    "_________________________________________________________________________________________________________________________________________________________"
   ]
  },
  {
   "cell_type": "code",
   "execution_count": 4,
   "id": "0ebf57c7-9be7-4374-800d-804bdaab4c3e",
   "metadata": {},
   "outputs": [],
   "source": [
    "import pandas as pd\n",
    "import numpy as np\n",
    "import seaborn as sns"
   ]
  },
  {
   "cell_type": "code",
   "execution_count": 8,
   "id": "2d391906-a449-440d-889e-80a7cd7b8385",
   "metadata": {},
   "outputs": [
    {
     "data": {
      "text/html": [
       "<div>\n",
       "<style scoped>\n",
       "    .dataframe tbody tr th:only-of-type {\n",
       "        vertical-align: middle;\n",
       "    }\n",
       "\n",
       "    .dataframe tbody tr th {\n",
       "        vertical-align: top;\n",
       "    }\n",
       "\n",
       "    .dataframe thead th {\n",
       "        text-align: right;\n",
       "    }\n",
       "</style>\n",
       "<table border=\"1\" class=\"dataframe\">\n",
       "  <thead>\n",
       "    <tr style=\"text-align: right;\">\n",
       "      <th></th>\n",
       "      <th>Observed Values</th>\n",
       "      <th>East</th>\n",
       "      <th>West</th>\n",
       "      <th>North</th>\n",
       "      <th>South</th>\n",
       "    </tr>\n",
       "  </thead>\n",
       "  <tbody>\n",
       "    <tr>\n",
       "      <th>0</th>\n",
       "      <td>Males</td>\n",
       "      <td>50</td>\n",
       "      <td>142</td>\n",
       "      <td>131</td>\n",
       "      <td>70</td>\n",
       "    </tr>\n",
       "    <tr>\n",
       "      <th>1</th>\n",
       "      <td>Females</td>\n",
       "      <td>435</td>\n",
       "      <td>1523</td>\n",
       "      <td>1356</td>\n",
       "      <td>750</td>\n",
       "    </tr>\n",
       "  </tbody>\n",
       "</table>\n",
       "</div>"
      ],
      "text/plain": [
       "  Observed Values  East  West  North  South\n",
       "0           Males    50   142    131     70\n",
       "1         Females   435  1523   1356    750"
      ]
     },
     "execution_count": 8,
     "metadata": {},
     "output_type": "execute_result"
    }
   ],
   "source": [
    "data=pd.read_csv(\"BuyerRatio.csv\")\n",
    "data.head()"
   ]
  },
  {
   "cell_type": "code",
   "execution_count": 10,
   "id": "8915cf82-2b69-462d-80f0-6157d97be04e",
   "metadata": {},
   "outputs": [
    {
     "data": {
      "text/plain": [
       "(2, 5)"
      ]
     },
     "execution_count": 10,
     "metadata": {},
     "output_type": "execute_result"
    }
   ],
   "source": [
    "#Now will check shape of the data\n",
    "data.shape"
   ]
  },
  {
   "cell_type": "code",
   "execution_count": 12,
   "id": "83e3e3a6-d68e-43a8-b573-bcaf6392dc08",
   "metadata": {},
   "outputs": [],
   "source": [
    "#Data Dictionary \n",
    "#Observe Values=Categorical\n",
    "#East=Discreate\n",
    "#West=Discreate\n",
    "#North=Discreate\n",
    "#South=Discreate"
   ]
  },
  {
   "cell_type": "code",
   "execution_count": 14,
   "id": "6d95161d-6251-4eb0-b56a-58a29832c20b",
   "metadata": {},
   "outputs": [
    {
     "data": {
      "text/plain": [
       "Observed Values    object\n",
       "East                int64\n",
       "West                int64\n",
       "North               int64\n",
       "South               int64\n",
       "dtype: object"
      ]
     },
     "execution_count": 14,
     "metadata": {},
     "output_type": "execute_result"
    }
   ],
   "source": [
    "#Data Preprocessing\n",
    "#first we will check the datatype\n",
    "data.dtypes "
   ]
  },
  {
   "cell_type": "code",
   "execution_count": 16,
   "id": "9cdeaecd-f1bc-4d31-b2b8-4da49efab43d",
   "metadata": {},
   "outputs": [
    {
     "data": {
      "text/plain": [
       "Index(['Observed Values', 'East', 'West', 'North', 'South'], dtype='object')"
      ]
     },
     "execution_count": 16,
     "metadata": {},
     "output_type": "execute_result"
    }
   ],
   "source": [
    "data.columns"
   ]
  },
  {
   "cell_type": "code",
   "execution_count": 18,
   "id": "33b2e60b-a50a-42e5-9729-712c2a9811a1",
   "metadata": {},
   "outputs": [
    {
     "data": {
      "text/plain": [
       "Observed Values    0\n",
       "East               0\n",
       "West               0\n",
       "North              0\n",
       "South              0\n",
       "dtype: int64"
      ]
     },
     "execution_count": 18,
     "metadata": {},
     "output_type": "execute_result"
    }
   ],
   "source": [
    "#Check the null values\n",
    "data.isna().sum() \n",
    "#from ouput we can see there are 0 null values"
   ]
  },
  {
   "cell_type": "code",
   "execution_count": 20,
   "id": "180fa513-818b-4296-bc7d-c43b085214e9",
   "metadata": {},
   "outputs": [
    {
     "data": {
      "text/html": [
       "<div>\n",
       "<style scoped>\n",
       "    .dataframe tbody tr th:only-of-type {\n",
       "        vertical-align: middle;\n",
       "    }\n",
       "\n",
       "    .dataframe tbody tr th {\n",
       "        vertical-align: top;\n",
       "    }\n",
       "\n",
       "    .dataframe thead th {\n",
       "        text-align: right;\n",
       "    }\n",
       "</style>\n",
       "<table border=\"1\" class=\"dataframe\">\n",
       "  <thead>\n",
       "    <tr style=\"text-align: right;\">\n",
       "      <th></th>\n",
       "      <th>East</th>\n",
       "      <th>West</th>\n",
       "      <th>North</th>\n",
       "      <th>South</th>\n",
       "    </tr>\n",
       "  </thead>\n",
       "  <tbody>\n",
       "    <tr>\n",
       "      <th>count</th>\n",
       "      <td>2.000000</td>\n",
       "      <td>2.000000</td>\n",
       "      <td>2.000000</td>\n",
       "      <td>2.000000</td>\n",
       "    </tr>\n",
       "    <tr>\n",
       "      <th>mean</th>\n",
       "      <td>242.500000</td>\n",
       "      <td>832.500000</td>\n",
       "      <td>743.500000</td>\n",
       "      <td>410.000000</td>\n",
       "    </tr>\n",
       "    <tr>\n",
       "      <th>std</th>\n",
       "      <td>272.236111</td>\n",
       "      <td>976.514465</td>\n",
       "      <td>866.205807</td>\n",
       "      <td>480.832611</td>\n",
       "    </tr>\n",
       "    <tr>\n",
       "      <th>min</th>\n",
       "      <td>50.000000</td>\n",
       "      <td>142.000000</td>\n",
       "      <td>131.000000</td>\n",
       "      <td>70.000000</td>\n",
       "    </tr>\n",
       "    <tr>\n",
       "      <th>25%</th>\n",
       "      <td>146.250000</td>\n",
       "      <td>487.250000</td>\n",
       "      <td>437.250000</td>\n",
       "      <td>240.000000</td>\n",
       "    </tr>\n",
       "    <tr>\n",
       "      <th>50%</th>\n",
       "      <td>242.500000</td>\n",
       "      <td>832.500000</td>\n",
       "      <td>743.500000</td>\n",
       "      <td>410.000000</td>\n",
       "    </tr>\n",
       "    <tr>\n",
       "      <th>75%</th>\n",
       "      <td>338.750000</td>\n",
       "      <td>1177.750000</td>\n",
       "      <td>1049.750000</td>\n",
       "      <td>580.000000</td>\n",
       "    </tr>\n",
       "    <tr>\n",
       "      <th>max</th>\n",
       "      <td>435.000000</td>\n",
       "      <td>1523.000000</td>\n",
       "      <td>1356.000000</td>\n",
       "      <td>750.000000</td>\n",
       "    </tr>\n",
       "  </tbody>\n",
       "</table>\n",
       "</div>"
      ],
      "text/plain": [
       "             East         West        North       South\n",
       "count    2.000000     2.000000     2.000000    2.000000\n",
       "mean   242.500000   832.500000   743.500000  410.000000\n",
       "std    272.236111   976.514465   866.205807  480.832611\n",
       "min     50.000000   142.000000   131.000000   70.000000\n",
       "25%    146.250000   487.250000   437.250000  240.000000\n",
       "50%    242.500000   832.500000   743.500000  410.000000\n",
       "75%    338.750000  1177.750000  1049.750000  580.000000\n",
       "max    435.000000  1523.000000  1356.000000  750.000000"
      ]
     },
     "execution_count": 20,
     "metadata": {},
     "output_type": "execute_result"
    }
   ],
   "source": [
    "data.describe() #by this we came to know min ,max,std,mean 25%,75%,50%"
   ]
  },
  {
   "cell_type": "code",
   "execution_count": 28,
   "id": "45d75112-1a75-4c13-bc30-a976a7bef10d",
   "metadata": {},
   "outputs": [],
   "source": [
    "import scipy.stats as stats"
   ]
  },
  {
   "cell_type": "code",
   "execution_count": 30,
   "id": "3cec95fa-c087-46fb-aad1-2d18f6ccd92b",
   "metadata": {},
   "outputs": [
    {
     "name": "stdout",
     "output_type": "stream",
     "text": [
      "\n",
      "Contingency Table:\n",
      "                  East  West  North  South\n",
      "Observed Values                          \n",
      "Males              50   142    131     70\n",
      "Females           435  1523   1356    750\n"
     ]
    }
   ],
   "source": [
    "# Extracting data for contingency table\n",
    "contingency_table = data.set_index('Observed Values')\n",
    "print(\"\\nContingency Table:\\n\", contingency_table)\n"
   ]
  },
  {
   "cell_type": "code",
   "execution_count": 32,
   "id": "13ce3a2e-e8f3-48ad-b96d-377a4a943e5b",
   "metadata": {},
   "outputs": [
    {
     "name": "stdout",
     "output_type": "stream",
     "text": [
      "\n",
      "Chi-Square Test Results:\n",
      "Chi-Square Statistic = 1.5959\n",
      "p-value = 0.6603\n",
      "Degrees of Freedom = 3\n",
      "\n",
      "Expected Frequencies Table:\n",
      "                East         West        North       South\n",
      "Males     42.765313   146.812879   131.117568   72.304241\n",
      "Females  442.234687  1518.187121  1355.882432  747.695759\n"
     ]
    }
   ],
   "source": [
    "# ============================\n",
    "# Hypothesis Testing: Chi-Square Test\n",
    "# ============================\n",
    "# Perform Chi-Square Test of Independence\n",
    "chi2_stat, p_value, dof, expected = stats.chi2_contingency(contingency_table)\n",
    "\n",
    "print(\"\\nChi-Square Test Results:\")\n",
    "print(f\"Chi-Square Statistic = {chi2_stat:.4f}\")\n",
    "print(f\"p-value = {p_value:.4f}\")\n",
    "print(f\"Degrees of Freedom = {dof}\")\n",
    "print(\"\\nExpected Frequencies Table:\\n\", pd.DataFrame(expected, \n",
    "                                                     index=['Males', 'Females'], \n",
    "                                                     columns=['East', 'West', 'North', 'South']))\n"
   ]
  },
  {
   "cell_type": "code",
   "execution_count": 34,
   "id": "c7024961-0276-471e-852d-90203513f713",
   "metadata": {},
   "outputs": [
    {
     "name": "stdout",
     "output_type": "stream",
     "text": [
      "\n",
      "Conclusion: Fail to reject the null hypothesis. Male-female buyer ratios are similar across regions.\n"
     ]
    }
   ],
   "source": [
    "# ============================\n",
    "# Final Inference\n",
    "# ============================\n",
    "alpha = 0.05\n",
    "if p_value <= alpha:\n",
    "    print(\"\\nConclusion: Reject the null hypothesis. Male-female buyer ratios are significantly different across regions.\")\n",
    "else:\n",
    "    print(\"\\nConclusion: Fail to reject the null hypothesis. Male-female buyer ratios are similar across regions.\")\n"
   ]
  },
  {
   "cell_type": "code",
   "execution_count": null,
   "id": "fd29b7d1-fd87-47e5-a42d-f17d87d666a3",
   "metadata": {},
   "outputs": [],
   "source": []
  }
 ],
 "metadata": {
  "kernelspec": {
   "display_name": "Python 3 (ipykernel)",
   "language": "python",
   "name": "python3"
  },
  "language_info": {
   "codemirror_mode": {
    "name": "ipython",
    "version": 3
   },
   "file_extension": ".py",
   "mimetype": "text/x-python",
   "name": "python",
   "nbconvert_exporter": "python",
   "pygments_lexer": "ipython3",
   "version": "3.12.7"
  }
 },
 "nbformat": 4,
 "nbformat_minor": 5
}

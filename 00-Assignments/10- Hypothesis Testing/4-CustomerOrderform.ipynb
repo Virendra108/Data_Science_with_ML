{
 "cells": [
  {
   "cell_type": "markdown",
   "id": "e8fa90f9-585b-436b-8060-4f7d99395524",
   "metadata": {},
   "source": [
    "4.Problem Satement :Telecall uses 4 centers around the globe to process customer order forms. They audit a certain % of the customer order forms. Any error in order form renders it defective and must be reworked before processing. The manager wants to check whether the defective % varies by center. Please analyze the data at 5% significance level and help the manager draw appropriate inferences.\n",
    "\r\n",
    "\n",
    "-----------------------------------------------------------------------------------------------------------------------------------------------------------"
   ]
  },
  {
   "cell_type": "markdown",
   "id": "c19110e9-2190-4280-a63b-26f52d062e2a",
   "metadata": {},
   "source": [
    "1.1 Business Objective \n",
    "\n",
    "Goal:\n",
    "\n",
    "To assess and compare the performance of the four centers in terms of processing error-free customer order forms.\n",
    "Identify if any center has a significantly higher defect rate, allowing the manager to take corrective actions.\n",
    "___________________________________________________________________________________________________________________________________________________________\n",
    "\n",
    "1.2 Constraints \n",
    "\n",
    "Audit Sampling Bias:\n",
    "Results are based on a random audit of order forms, which may not capture all possible errors.\n",
    "\n",
    "Operational Variability:\n",
    "Differences in team expertise, workload, or system errors may affect defect rates.\n",
    "\n",
    "Time Sensitivity:\n",
    "Quick decisions are needed to address high-defect centers and ensure continuous improvement.\n",
    "\n",
    "Data Accuracy:\n",
    "Ensuring that audit data accurately reflects the defect percentage for each center.\n",
    "__________________________________________________________________________________________________________________"
   ]
  },
  {
   "cell_type": "code",
   "execution_count": 4,
   "id": "0ebf57c7-9be7-4374-800d-804bdaab4c3e",
   "metadata": {},
   "outputs": [],
   "source": [
    "import pandas as pd\n",
    "import numpy as np\n",
    "import seaborn as sns"
   ]
  },
  {
   "cell_type": "code",
   "execution_count": 6,
   "id": "2d391906-a449-440d-889e-80a7cd7b8385",
   "metadata": {},
   "outputs": [
    {
     "data": {
      "text/html": [
       "<div>\n",
       "<style scoped>\n",
       "    .dataframe tbody tr th:only-of-type {\n",
       "        vertical-align: middle;\n",
       "    }\n",
       "\n",
       "    .dataframe tbody tr th {\n",
       "        vertical-align: top;\n",
       "    }\n",
       "\n",
       "    .dataframe thead th {\n",
       "        text-align: right;\n",
       "    }\n",
       "</style>\n",
       "<table border=\"1\" class=\"dataframe\">\n",
       "  <thead>\n",
       "    <tr style=\"text-align: right;\">\n",
       "      <th></th>\n",
       "      <th>Phillippines</th>\n",
       "      <th>Indonesia</th>\n",
       "      <th>Malta</th>\n",
       "      <th>India</th>\n",
       "    </tr>\n",
       "  </thead>\n",
       "  <tbody>\n",
       "    <tr>\n",
       "      <th>0</th>\n",
       "      <td>Error Free</td>\n",
       "      <td>Error Free</td>\n",
       "      <td>Defective</td>\n",
       "      <td>Error Free</td>\n",
       "    </tr>\n",
       "    <tr>\n",
       "      <th>1</th>\n",
       "      <td>Error Free</td>\n",
       "      <td>Error Free</td>\n",
       "      <td>Error Free</td>\n",
       "      <td>Defective</td>\n",
       "    </tr>\n",
       "    <tr>\n",
       "      <th>2</th>\n",
       "      <td>Error Free</td>\n",
       "      <td>Defective</td>\n",
       "      <td>Defective</td>\n",
       "      <td>Error Free</td>\n",
       "    </tr>\n",
       "    <tr>\n",
       "      <th>3</th>\n",
       "      <td>Error Free</td>\n",
       "      <td>Error Free</td>\n",
       "      <td>Error Free</td>\n",
       "      <td>Error Free</td>\n",
       "    </tr>\n",
       "    <tr>\n",
       "      <th>4</th>\n",
       "      <td>Error Free</td>\n",
       "      <td>Error Free</td>\n",
       "      <td>Defective</td>\n",
       "      <td>Error Free</td>\n",
       "    </tr>\n",
       "  </tbody>\n",
       "</table>\n",
       "</div>"
      ],
      "text/plain": [
       "  Phillippines   Indonesia       Malta       India\n",
       "0   Error Free  Error Free   Defective  Error Free\n",
       "1   Error Free  Error Free  Error Free   Defective\n",
       "2   Error Free   Defective   Defective  Error Free\n",
       "3   Error Free  Error Free  Error Free  Error Free\n",
       "4   Error Free  Error Free   Defective  Error Free"
      ]
     },
     "execution_count": 6,
     "metadata": {},
     "output_type": "execute_result"
    }
   ],
   "source": [
    "data=pd.read_csv(\"CustomerOrderform.csv\")\n",
    "data.head()"
   ]
  },
  {
   "cell_type": "code",
   "execution_count": 8,
   "id": "8915cf82-2b69-462d-80f0-6157d97be04e",
   "metadata": {},
   "outputs": [
    {
     "data": {
      "text/plain": [
       "(315, 4)"
      ]
     },
     "execution_count": 8,
     "metadata": {},
     "output_type": "execute_result"
    }
   ],
   "source": [
    "#Now will check shape of the data\n",
    "data.shape"
   ]
  },
  {
   "cell_type": "code",
   "execution_count": 11,
   "id": "6d95161d-6251-4eb0-b56a-58a29832c20b",
   "metadata": {},
   "outputs": [
    {
     "data": {
      "text/plain": [
       "Phillippines    object\n",
       "Indonesia       object\n",
       "Malta           object\n",
       "India           object\n",
       "dtype: object"
      ]
     },
     "execution_count": 11,
     "metadata": {},
     "output_type": "execute_result"
    }
   ],
   "source": [
    "#Data Preprocessing\n",
    "#first we will check the datatype\n",
    "data.dtypes "
   ]
  },
  {
   "cell_type": "code",
   "execution_count": 13,
   "id": "9cdeaecd-f1bc-4d31-b2b8-4da49efab43d",
   "metadata": {},
   "outputs": [
    {
     "data": {
      "text/plain": [
       "Index(['Phillippines', 'Indonesia', 'Malta', 'India'], dtype='object')"
      ]
     },
     "execution_count": 13,
     "metadata": {},
     "output_type": "execute_result"
    }
   ],
   "source": [
    "data.columns"
   ]
  },
  {
   "cell_type": "code",
   "execution_count": 17,
   "id": "83d4e5ad-9979-4888-bb06-02e12c99832a",
   "metadata": {},
   "outputs": [
    {
     "name": "stderr",
     "output_type": "stream",
     "text": [
      "C:\\Users\\ADMIN\\AppData\\Local\\Temp\\ipykernel_1904\\517854692.py:6: FutureWarning: DataFrame.applymap has been deprecated. Use DataFrame.map instead.\n",
      "  data = data.applymap(lambda x: 1 if x == 'defective' else 0)  # Map 'defective' to 1 and others to 0\n"
     ]
    }
   ],
   "source": [
    "# ============================\n",
    "# Data Preprocessing\n",
    "# ============================\n",
    "# Convert responses to lowercase and map to binary format (1 for 'defective', 0 for 'non-defective')\n",
    "data = data.apply(lambda x: x.str.strip().str.lower())  # Strip spaces and convert to lowercase\n",
    "data = data.applymap(lambda x: 1 if x == 'defective' else 0)  # Map 'defective' to 1 and others to 0\n"
   ]
  },
  {
   "cell_type": "code",
   "execution_count": 19,
   "id": "33b2e60b-a50a-42e5-9729-712c2a9811a1",
   "metadata": {},
   "outputs": [
    {
     "data": {
      "text/plain": [
       "Phillippines    0\n",
       "Indonesia       0\n",
       "Malta           0\n",
       "India           0\n",
       "dtype: int64"
      ]
     },
     "execution_count": 19,
     "metadata": {},
     "output_type": "execute_result"
    }
   ],
   "source": [
    "#Check the null values\n",
    "data.isna().sum() \n",
    "#from ouput we can see there are 0 null values"
   ]
  },
  {
   "cell_type": "code",
   "execution_count": 26,
   "id": "73f1679c-08b8-4b38-9553-f76728daed35",
   "metadata": {},
   "outputs": [
    {
     "data": {
      "text/html": [
       "<div>\n",
       "<style scoped>\n",
       "    .dataframe tbody tr th:only-of-type {\n",
       "        vertical-align: middle;\n",
       "    }\n",
       "\n",
       "    .dataframe tbody tr th {\n",
       "        vertical-align: top;\n",
       "    }\n",
       "\n",
       "    .dataframe thead th {\n",
       "        text-align: right;\n",
       "    }\n",
       "</style>\n",
       "<table border=\"1\" class=\"dataframe\">\n",
       "  <thead>\n",
       "    <tr style=\"text-align: right;\">\n",
       "      <th></th>\n",
       "      <th>Phillippines</th>\n",
       "      <th>Indonesia</th>\n",
       "      <th>Malta</th>\n",
       "      <th>India</th>\n",
       "    </tr>\n",
       "  </thead>\n",
       "  <tbody>\n",
       "    <tr>\n",
       "      <th>count</th>\n",
       "      <td>315.000000</td>\n",
       "      <td>315.000000</td>\n",
       "      <td>315.000000</td>\n",
       "      <td>315.000000</td>\n",
       "    </tr>\n",
       "    <tr>\n",
       "      <th>mean</th>\n",
       "      <td>0.092063</td>\n",
       "      <td>0.104762</td>\n",
       "      <td>0.098413</td>\n",
       "      <td>0.063492</td>\n",
       "    </tr>\n",
       "    <tr>\n",
       "      <th>std</th>\n",
       "      <td>0.289576</td>\n",
       "      <td>0.306734</td>\n",
       "      <td>0.298346</td>\n",
       "      <td>0.244234</td>\n",
       "    </tr>\n",
       "    <tr>\n",
       "      <th>min</th>\n",
       "      <td>0.000000</td>\n",
       "      <td>0.000000</td>\n",
       "      <td>0.000000</td>\n",
       "      <td>0.000000</td>\n",
       "    </tr>\n",
       "    <tr>\n",
       "      <th>25%</th>\n",
       "      <td>0.000000</td>\n",
       "      <td>0.000000</td>\n",
       "      <td>0.000000</td>\n",
       "      <td>0.000000</td>\n",
       "    </tr>\n",
       "    <tr>\n",
       "      <th>50%</th>\n",
       "      <td>0.000000</td>\n",
       "      <td>0.000000</td>\n",
       "      <td>0.000000</td>\n",
       "      <td>0.000000</td>\n",
       "    </tr>\n",
       "    <tr>\n",
       "      <th>75%</th>\n",
       "      <td>0.000000</td>\n",
       "      <td>0.000000</td>\n",
       "      <td>0.000000</td>\n",
       "      <td>0.000000</td>\n",
       "    </tr>\n",
       "    <tr>\n",
       "      <th>max</th>\n",
       "      <td>1.000000</td>\n",
       "      <td>1.000000</td>\n",
       "      <td>1.000000</td>\n",
       "      <td>1.000000</td>\n",
       "    </tr>\n",
       "  </tbody>\n",
       "</table>\n",
       "</div>"
      ],
      "text/plain": [
       "       Phillippines   Indonesia       Malta       India\n",
       "count    315.000000  315.000000  315.000000  315.000000\n",
       "mean       0.092063    0.104762    0.098413    0.063492\n",
       "std        0.289576    0.306734    0.298346    0.244234\n",
       "min        0.000000    0.000000    0.000000    0.000000\n",
       "25%        0.000000    0.000000    0.000000    0.000000\n",
       "50%        0.000000    0.000000    0.000000    0.000000\n",
       "75%        0.000000    0.000000    0.000000    0.000000\n",
       "max        1.000000    1.000000    1.000000    1.000000"
      ]
     },
     "execution_count": 26,
     "metadata": {},
     "output_type": "execute_result"
    }
   ],
   "source": [
    "data.describe() #by this we came to know min ,max,std,mean 25%,75%,50%"
   ]
  },
  {
   "cell_type": "code",
   "execution_count": 28,
   "id": "d51cca5c-273f-4b2c-a227-9c306c7e90cb",
   "metadata": {},
   "outputs": [
    {
     "name": "stdout",
     "output_type": "stream",
     "text": [
      "<class 'pandas.core.frame.DataFrame'>\n",
      "RangeIndex: 315 entries, 0 to 314\n",
      "Data columns (total 4 columns):\n",
      " #   Column        Non-Null Count  Dtype\n",
      "---  ------        --------------  -----\n",
      " 0   Phillippines  315 non-null    int64\n",
      " 1   Indonesia     315 non-null    int64\n",
      " 2   Malta         315 non-null    int64\n",
      " 3   India         315 non-null    int64\n",
      "dtypes: int64(4)\n",
      "memory usage: 10.0 KB\n"
     ]
    }
   ],
   "source": [
    "data.info()"
   ]
  },
  {
   "cell_type": "code",
   "execution_count": 24,
   "id": "234c4a47-3e14-4729-99a7-3185b86b77ed",
   "metadata": {},
   "outputs": [
    {
     "data": {
      "image/png": "[encoded data removed]",
      "text/plain": [
       "<Figure size 2000x1000 with 4 Axes>"
      ]
     },
     "metadata": {},
     "output_type": "display_data"
    }
   ],
   "source": [
    "#Univariate Analysis\n",
    "import matplotlib.pyplot as plt\n",
    "data.hist(figsize=(20, 10), bins=20, color='blue', edgecolor='black')\n",
    "plt.suptitle(\"Histograms of Numerical Features\")\n",
    "plt.show()"
   ]
  },
  {
   "cell_type": "code",
   "execution_count": 34,
   "id": "00b201cb-4173-47f7-8bf4-45b227e76236",
   "metadata": {},
   "outputs": [
    {
     "data": {
      "image/png": "[encoded data removed]",
      "text/plain": [
       "<Figure size 800x500 with 2 Axes>"
      ]
     },
     "metadata": {},
     "output_type": "display_data"
    }
   ],
   "source": [
    "# Correlation heatmap\n",
    "plt.figure(figsize=(8,5))\n",
    "sns.heatmap(data[['Phillippines', 'Indonesia', 'Malta', 'India']].corr(), annot=True, cmap='coolwarm', fmt=\".2f\", linewidths=0.5)\n",
    "plt.title(\"Correlation Heatmap\")\n",
    "plt.show()\n",
    "#From this graph we understand 'Phillippines', 'Indonesia', 'Malta', 'India' are weakly corelated"
   ]
  },
  {
   "cell_type": "code",
   "execution_count": 29,
   "id": "45d75112-1a75-4c13-bc30-a976a7bef10d",
   "metadata": {},
   "outputs": [],
   "source": [
    "import scipy.stats as stats"
   ]
  },
  {
   "cell_type": "code",
   "execution_count": 36,
   "id": "16230837-8c1e-4528-b946-13dad37169b0",
   "metadata": {},
   "outputs": [
    {
     "name": "stdout",
     "output_type": "stream",
     "text": [
      "Contingency Table:\n",
      "                Center 1  Center 2  Center 3  Center 4\n",
      "Defective            29        33        31        20\n",
      "Non-Defective       286       282       284       295\n"
     ]
    }
   ],
   "source": [
    "# ============================\n",
    "# Create Contingency Table\n",
    "# ============================\n",
    "# Create a contingency table to compare defect counts across centers\n",
    "contingency_table = pd.DataFrame({\n",
    "    'Center 1': [data['Phillippines'].sum(), len(data['Phillippines']) - data['Phillippines'].sum()],\n",
    "    'Center 2': [data['Indonesia'].sum(), len(data['Indonesia']) - data['Indonesia'].sum()],\n",
    "    'Center 3': [data['Malta'].sum(), len(data['Malta']) - data['Malta'].sum()],\n",
    "    'Center 4': [data['India'].sum(), len(data['India']) - data['India'].sum()]\n",
    "}, index=['Defective', 'Non-Defective'])\n",
    "\n",
    "print(\"Contingency Table:\\n\", contingency_table)"
   ]
  },
  {
   "cell_type": "code",
   "execution_count": 40,
   "id": "f41b26d5-d1f9-4b68-a58a-ace49fd8f595",
   "metadata": {},
   "outputs": [
    {
     "name": "stdout",
     "output_type": "stream",
     "text": [
      "\n",
      "Chi-Square Test Results:\n",
      "Chi-Square Statistic = 3.8399518559381534\n",
      "p-value = 0.27927313505725293\n",
      "Degrees of Freedom = 3\n",
      "\n",
      "Expected Frequencies Table:\n",
      " [[ 28.25  28.25  28.25  28.25]\n",
      " [286.75 286.75 286.75 286.75]]\n"
     ]
    }
   ],
   "source": [
    "# ============================\n",
    "# Hypothesis Testing: Chi-Square Test\n",
    "# ============================\n",
    "# Perform Chi-Square Test of Independence\n",
    "import scipy.stats as stats\n",
    "chi2_stat, p_value, dof, expected = stats.chi2_contingency(contingency_table)\n",
    "\n",
    "print(\"\\nChi-Square Test Results:\")\n",
    "print(f\"Chi-Square Statistic = {chi2_stat}\")\n",
    "print(f\"p-value = {p_value}\")\n",
    "print(f\"Degrees of Freedom = {dof}\")\n",
    "print(\"\\nExpected Frequencies Table:\\n\", expected)\n"
   ]
  },
  {
   "cell_type": "code",
   "execution_count": 42,
   "id": "6315cade-caaa-4d17-a3e7-7d63d1e89b56",
   "metadata": {},
   "outputs": [
    {
     "name": "stdout",
     "output_type": "stream",
     "text": [
      "\n",
      "Conclusion: Fail to reject the null hypothesis. There is no significant difference in the defective percentages across the centers.\n"
     ]
    }
   ],
   "source": [
    "\n",
    "# Final Inference\n",
    "\n",
    "alpha = 0.05\n",
    "if p_value <= alpha:\n",
    "    print(\"\\nConclusion: Reject the null hypothesis. There is a significant difference in the defective percentages across the centers.\")\n",
    "else:\n",
    "    print(\"\\nConclusion: Fail to reject the null hypothesis. There is no significant difference in the defective percentages across the centers.\")\n"
   ]
  },
  {
   "cell_type": "code",
   "execution_count": null,
   "id": "a841500f-354c-4af0-b92a-674afb874bfc",
   "metadata": {},
   "outputs": [],
   "source": []
  },
  {
   "cell_type": "code",
   "execution_count": null,
   "id": "ec726053-211a-42db-b436-96eb69e48e1b",
   "metadata": {},
   "outputs": [],
   "source": []
  }
 ],
 "metadata": {
  "kernelspec": {
   "display_name": "Python 3 (ipykernel)",
   "language": "python",
   "name": "python3"
  },
  "language_info": {
   "codemirror_mode": {
    "name": "ipython",
    "version": 3
   },
   "file_extension": ".py",
   "mimetype": "text/x-python",
   "name": "python",
   "nbconvert_exporter": "python",
   "pygments_lexer": "ipython3",
   "version": "3.12.7"
  }
 },
 "nbformat": 4,
 "nbformat_minor": 5
}

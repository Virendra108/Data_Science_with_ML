{
 "cells": [
  {
   "cell_type": "markdown",
   "id": "e8fa90f9-585b-436b-8060-4f7d99395524",
   "metadata": {},
   "source": [
    "1.Problem Satement : A F&B manager wants to determine whether there is any significant difference in the diameter of the cutlet between two units. A randomly selected sample of cutlets was collected from both units and measured? Analyze the data and draw inferences at 5% significance level. Please state the assumptions and tests that you carried out to check validity of the assumptions.\n",
    "\n",
    "-----------------------------------------------------------------------------------------------------------------------------------------------------------"
   ]
  },
  {
   "cell_type": "markdown",
   "id": "c19110e9-2190-4280-a63b-26f52d062e2a",
   "metadata": {},
   "source": [
    "1.1 Business Objective \n",
    "\n",
    "Goal:\n",
    "\n",
    "To maintain consistent quality and size of cutlets produced across both units.\n",
    "Ensuring that the cutlet diameters meet the standard specifications to avoid customer dissatisfaction.\n",
    "___________________________________________________________________________________________________________________________________________________________\n",
    "\n",
    "1.2 Constraints \n",
    "\n",
    "Limited Sample Size:\n",
    "The inferences are drawn based on a limited sample, which may not capture the variability of the entire population.\n",
    "\n",
    "Time Sensitivity:\n",
    "Quick decisions are required to maintain production standards, so analysis should be timely.\n",
    "    \n",
    "Accuracy in Measurement:\n",
    "Measurement errors or inconsistencies in data collection may affect the validity of results.\n",
    "\n",
    "_________________________________________________________________________________________________________________________________________________________"
   ]
  },
  {
   "cell_type": "code",
   "execution_count": 50,
   "id": "0ebf57c7-9be7-4374-800d-804bdaab4c3e",
   "metadata": {},
   "outputs": [],
   "source": [
    "import pandas as pd\n",
    "import numpy as np\n",
    "import seaborn as sns"
   ]
  },
  {
   "cell_type": "code",
   "execution_count": 16,
   "id": "2d391906-a449-440d-889e-80a7cd7b8385",
   "metadata": {},
   "outputs": [
    {
     "data": {
      "text/html": [
       "<div>\n",
       "<style scoped>\n",
       "    .dataframe tbody tr th:only-of-type {\n",
       "        vertical-align: middle;\n",
       "    }\n",
       "\n",
       "    .dataframe tbody tr th {\n",
       "        vertical-align: top;\n",
       "    }\n",
       "\n",
       "    .dataframe thead th {\n",
       "        text-align: right;\n",
       "    }\n",
       "</style>\n",
       "<table border=\"1\" class=\"dataframe\">\n",
       "  <thead>\n",
       "    <tr style=\"text-align: right;\">\n",
       "      <th></th>\n",
       "      <th>Unit A</th>\n",
       "      <th>Unit B</th>\n",
       "    </tr>\n",
       "  </thead>\n",
       "  <tbody>\n",
       "    <tr>\n",
       "      <th>0</th>\n",
       "      <td>6.8090</td>\n",
       "      <td>6.7703</td>\n",
       "    </tr>\n",
       "    <tr>\n",
       "      <th>1</th>\n",
       "      <td>6.4376</td>\n",
       "      <td>7.5093</td>\n",
       "    </tr>\n",
       "    <tr>\n",
       "      <th>2</th>\n",
       "      <td>6.9157</td>\n",
       "      <td>6.7300</td>\n",
       "    </tr>\n",
       "    <tr>\n",
       "      <th>3</th>\n",
       "      <td>7.3012</td>\n",
       "      <td>6.7878</td>\n",
       "    </tr>\n",
       "    <tr>\n",
       "      <th>4</th>\n",
       "      <td>7.4488</td>\n",
       "      <td>7.1522</td>\n",
       "    </tr>\n",
       "  </tbody>\n",
       "</table>\n",
       "</div>"
      ],
      "text/plain": [
       "   Unit A  Unit B\n",
       "0  6.8090  6.7703\n",
       "1  6.4376  7.5093\n",
       "2  6.9157  6.7300\n",
       "3  7.3012  6.7878\n",
       "4  7.4488  7.1522"
      ]
     },
     "execution_count": 16,
     "metadata": {},
     "output_type": "execute_result"
    }
   ],
   "source": [
    "data=pd.read_csv(\"Cutlets.csv\")\n",
    "data.head()"
   ]
  },
  {
   "cell_type": "code",
   "execution_count": 18,
   "id": "8915cf82-2b69-462d-80f0-6157d97be04e",
   "metadata": {},
   "outputs": [
    {
     "data": {
      "text/plain": [
       "(51, 2)"
      ]
     },
     "execution_count": 18,
     "metadata": {},
     "output_type": "execute_result"
    }
   ],
   "source": [
    "#Now will check shape of the data\n",
    "data.shape"
   ]
  },
  {
   "cell_type": "code",
   "execution_count": 20,
   "id": "83e3e3a6-d68e-43a8-b573-bcaf6392dc08",
   "metadata": {},
   "outputs": [],
   "source": [
    "#Data Dictionary \n",
    "#Unit A - Continous\n",
    "#Unit B - Continous"
   ]
  },
  {
   "cell_type": "code",
   "execution_count": 22,
   "id": "6d95161d-6251-4eb0-b56a-58a29832c20b",
   "metadata": {},
   "outputs": [
    {
     "data": {
      "text/plain": [
       "Unit A    float64\n",
       "Unit B    float64\n",
       "dtype: object"
      ]
     },
     "execution_count": 22,
     "metadata": {},
     "output_type": "execute_result"
    }
   ],
   "source": [
    "#Data Preprocessing\n",
    "#first we will check the datatype\n",
    "data.dtypes "
   ]
  },
  {
   "cell_type": "code",
   "execution_count": 24,
   "id": "9cdeaecd-f1bc-4d31-b2b8-4da49efab43d",
   "metadata": {},
   "outputs": [
    {
     "data": {
      "text/plain": [
       "Index(['Unit A', 'Unit B'], dtype='object')"
      ]
     },
     "execution_count": 24,
     "metadata": {},
     "output_type": "execute_result"
    }
   ],
   "source": [
    "data.columns"
   ]
  },
  {
   "cell_type": "code",
   "execution_count": 26,
   "id": "33b2e60b-a50a-42e5-9729-712c2a9811a1",
   "metadata": {},
   "outputs": [
    {
     "data": {
      "text/plain": [
       "Unit A    16\n",
       "Unit B    16\n",
       "dtype: int64"
      ]
     },
     "execution_count": 26,
     "metadata": {},
     "output_type": "execute_result"
    }
   ],
   "source": [
    "#Check the null values\n",
    "data.isna().sum() \n",
    "#from ouput we can see there are 16 null values in both the columns ,so we will apply mean imputation to fill that null values"
   ]
  },
  {
   "cell_type": "code",
   "execution_count": 72,
   "id": "f3088d18-6636-4468-b15c-5b535dd76265",
   "metadata": {},
   "outputs": [],
   "source": [
    "df=data.head(35)"
   ]
  },
  {
   "cell_type": "code",
   "execution_count": 74,
   "id": "953b047e-dfb0-49db-a091-68bf885906c9",
   "metadata": {},
   "outputs": [
    {
     "data": {
      "text/plain": [
       "Unit A    0\n",
       "Unit B    0\n",
       "dtype: int64"
      ]
     },
     "execution_count": 74,
     "metadata": {},
     "output_type": "execute_result"
    }
   ],
   "source": [
    "#Check the null values\n",
    "df.isna().sum() \n",
    "#from ouput we can see that there are zero null values"
   ]
  },
  {
   "cell_type": "code",
   "execution_count": 78,
   "id": "2a9c4301-b521-49f3-bf17-c30bf5183af4",
   "metadata": {},
   "outputs": [
    {
     "data": {
      "text/plain": [
       "(35, 2)"
      ]
     },
     "execution_count": 78,
     "metadata": {},
     "output_type": "execute_result"
    }
   ],
   "source": [
    "#Now will check shape of the data\n",
    "df.shape"
   ]
  },
  {
   "cell_type": "code",
   "execution_count": 80,
   "id": "180fa513-818b-4296-bc7d-c43b085214e9",
   "metadata": {},
   "outputs": [
    {
     "data": {
      "text/html": [
       "<div>\n",
       "<style scoped>\n",
       "    .dataframe tbody tr th:only-of-type {\n",
       "        vertical-align: middle;\n",
       "    }\n",
       "\n",
       "    .dataframe tbody tr th {\n",
       "        vertical-align: top;\n",
       "    }\n",
       "\n",
       "    .dataframe thead th {\n",
       "        text-align: right;\n",
       "    }\n",
       "</style>\n",
       "<table border=\"1\" class=\"dataframe\">\n",
       "  <thead>\n",
       "    <tr style=\"text-align: right;\">\n",
       "      <th></th>\n",
       "      <th>Unit A</th>\n",
       "      <th>Unit B</th>\n",
       "    </tr>\n",
       "  </thead>\n",
       "  <tbody>\n",
       "    <tr>\n",
       "      <th>count</th>\n",
       "      <td>35.000000</td>\n",
       "      <td>35.000000</td>\n",
       "    </tr>\n",
       "    <tr>\n",
       "      <th>mean</th>\n",
       "      <td>7.019091</td>\n",
       "      <td>6.964297</td>\n",
       "    </tr>\n",
       "    <tr>\n",
       "      <th>std</th>\n",
       "      <td>0.288408</td>\n",
       "      <td>0.343401</td>\n",
       "    </tr>\n",
       "    <tr>\n",
       "      <th>min</th>\n",
       "      <td>6.437600</td>\n",
       "      <td>6.038000</td>\n",
       "    </tr>\n",
       "    <tr>\n",
       "      <th>25%</th>\n",
       "      <td>6.831500</td>\n",
       "      <td>6.753600</td>\n",
       "    </tr>\n",
       "    <tr>\n",
       "      <th>50%</th>\n",
       "      <td>6.943800</td>\n",
       "      <td>6.939900</td>\n",
       "    </tr>\n",
       "    <tr>\n",
       "      <th>75%</th>\n",
       "      <td>7.280550</td>\n",
       "      <td>7.195000</td>\n",
       "    </tr>\n",
       "    <tr>\n",
       "      <th>max</th>\n",
       "      <td>7.516900</td>\n",
       "      <td>7.545900</td>\n",
       "    </tr>\n",
       "  </tbody>\n",
       "</table>\n",
       "</div>"
      ],
      "text/plain": [
       "          Unit A     Unit B\n",
       "count  35.000000  35.000000\n",
       "mean    7.019091   6.964297\n",
       "std     0.288408   0.343401\n",
       "min     6.437600   6.038000\n",
       "25%     6.831500   6.753600\n",
       "50%     6.943800   6.939900\n",
       "75%     7.280550   7.195000\n",
       "max     7.516900   7.545900"
      ]
     },
     "execution_count": 80,
     "metadata": {},
     "output_type": "execute_result"
    }
   ],
   "source": [
    "df.describe() #by this we came to know min ,max,std,mean 25%,75%,50%"
   ]
  },
  {
   "cell_type": "code",
   "execution_count": 82,
   "id": "234c4a47-3e14-4729-99a7-3185b86b77ed",
   "metadata": {},
   "outputs": [
    {
     "data": {
      "image/png": "[encoded data removed]",
      "text/plain": [
       "<Figure size 2000x1000 with 2 Axes>"
      ]
     },
     "metadata": {},
     "output_type": "display_data"
    }
   ],
   "source": [
    "#Univariate Analysis\n",
    "import matplotlib.pyplot as plt\n",
    "data.hist(figsize=(20, 10), bins=20, color='blue', edgecolor='black')\n",
    "plt.suptitle(\"Histograms of Numerical Features\")\n",
    "plt.show()"
   ]
  },
  {
   "cell_type": "code",
   "execution_count": 84,
   "id": "00b201cb-4173-47f7-8bf4-45b227e76236",
   "metadata": {},
   "outputs": [
    {
     "data": {
      "image/png": "[encoded data removed]",
      "text/plain": [
       "<Figure size 800x500 with 2 Axes>"
      ]
     },
     "metadata": {},
     "output_type": "display_data"
    }
   ],
   "source": [
    "# Correlation heatmap\n",
    "plt.figure(figsize=(8,5))\n",
    "sns.heatmap(df[['Unit A','Unit B']].corr(), annot=True, cmap='coolwarm', fmt=\".2f\", linewidths=0.5)\n",
    "plt.title(\"Correlation Heatmap\")\n",
    "plt.show()\n",
    "#From this graph we understand Unit A and Unit B are weakly corelated"
   ]
  },
  {
   "cell_type": "code",
   "execution_count": 58,
   "id": "45d75112-1a75-4c13-bc30-a976a7bef10d",
   "metadata": {},
   "outputs": [],
   "source": [
    "import scipy.stats as stats"
   ]
  },
  {
   "cell_type": "code",
   "execution_count": 86,
   "id": "16230837-8c1e-4528-b946-13dad37169b0",
   "metadata": {},
   "outputs": [
    {
     "name": "stdout",
     "output_type": "stream",
     "text": [
      "Shapiro-Wilk Test Results:\n",
      "Unit A: Statistic=0.9649456489968531, p-value=0.31997821996861\n",
      "Unit B: Statistic=0.9727301795873082, p-value=0.5225029843840996\n"
     ]
    }
   ],
   "source": [
    "# Assumption 1: Normality Test\n",
    "# =================================================================================================================================\n",
    "# Shapiro-Wilk test for Unit A and Unit B\n",
    "shapiro_unitA = stats.shapiro(df['Unit A'])\n",
    "shapiro_unitB = stats.shapiro(df['Unit B'])\n",
    "\n",
    "print(\"Shapiro-Wilk Test Results:\")\n",
    "print(f\"Unit A: Statistic={shapiro_unitA.statistic}, p-value={shapiro_unitA.pvalue}\")\n",
    "print(f\"Unit B: Statistic={shapiro_unitB.statistic}, p-value={shapiro_unitB.pvalue}\")\n"
   ]
  },
  {
   "cell_type": "code",
   "execution_count": 88,
   "id": "f41b26d5-d1f9-4b68-a58a-ace49fd8f595",
   "metadata": {},
   "outputs": [
    {
     "name": "stdout",
     "output_type": "stream",
     "text": [
      "\n",
      "Levene’s Test Results:\n",
      "Statistic=0.6650897638632386, p-value=0.417616221250256\n"
     ]
    }
   ],
   "source": [
    "# ============================\n",
    "# Assumption 2: Variance Test\n",
    "# ============================\n",
    "# Levene's test for equality of variances\n",
    "levene_test = stats.levene(df['Unit A'], df['Unit B'])\n",
    "\n",
    "print(\"\\nLevene’s Test Results:\")\n",
    "print(f\"Statistic={levene_test.statistic}, p-value={levene_test.pvalue}\")"
   ]
  },
  {
   "cell_type": "code",
   "execution_count": 90,
   "id": "6315cade-caaa-4d17-a3e7-7d63d1e89b56",
   "metadata": {},
   "outputs": [
    {
     "name": "stdout",
     "output_type": "stream",
     "text": [
      "\n",
      "Two-Sample t-test Results:\n",
      "t-statistic=0.7228688704678063, p-value=0.47223947245995\n"
     ]
    }
   ],
   "source": [
    "# =====================================\n",
    "# Hypothesis Testing: Two-Sample t-test\n",
    "# =====================================\n",
    "# Perform independent two-sample t-test\n",
    "t_test_result = stats.ttest_ind(df['Unit A'], df['Unit B'], equal_var=True)\n",
    "\n",
    "print(\"\\nTwo-Sample t-test Results:\")\n",
    "print(f\"t-statistic={t_test_result.statistic}, p-value={t_test_result.pvalue}\")"
   ]
  },
  {
   "cell_type": "code",
   "execution_count": 92,
   "id": "a841500f-354c-4af0-b92a-674afb874bfc",
   "metadata": {},
   "outputs": [
    {
     "name": "stdout",
     "output_type": "stream",
     "text": [
      "\n",
      "Conclusion: Fail to reject the null hypothesis. There is no significant difference in the diameters.\n"
     ]
    }
   ],
   "source": [
    "# ============================\n",
    "# Final Inference\n",
    "# ============================\n",
    "alpha = 0.05\n",
    "if t_test_result.pvalue <= alpha:\n",
    "    print(\"\\nConclusion: Reject the null hypothesis. There is a significant difference in the diameters.\")\n",
    "else:\n",
    "    print(\"\\nConclusion: Fail to reject the null hypothesis. There is no significant difference in the diameters.\")\n"
   ]
  },
  {
   "cell_type": "code",
   "execution_count": null,
   "id": "ec726053-211a-42db-b436-96eb69e48e1b",
   "metadata": {},
   "outputs": [],
   "source": []
  }
 ],
 "metadata": {
  "kernelspec": {
   "display_name": "Python 3 (ipykernel)",
   "language": "python",
   "name": "python3"
  },
  "language_info": {
   "codemirror_mode": {
    "name": "ipython",
    "version": 3
   },
   "file_extension": ".py",
   "mimetype": "text/x-python",
   "name": "python",
   "nbconvert_exporter": "python",
   "pygments_lexer": "ipython3",
   "version": "3.12.3"
  }
 },
 "nbformat": 4,
 "nbformat_minor": 5
}

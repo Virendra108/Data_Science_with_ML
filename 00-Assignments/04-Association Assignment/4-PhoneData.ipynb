{
 "cells": [
  {
   "cell_type": "markdown",
   "id": "7a674052-aed5-4579-ac76-80e2b2ac097b",
   "metadata": {},
   "source": [
    "Problem Statement: \n",
    "\r\n",
    "A Mobile Phone manufacturing company wants to launch its three brand new phone into the market, but before going with its traditional marketing approach this time it want to analyze the data of its previous model sales in different regions and you have been hired as an Data Scientist to help them out, use the Association rules concept and provide your insights to the company’s marketing team to improve its sales.\r\n"
   ]
  },
  {
   "cell_type": "markdown",
   "id": "e6641926-fc52-41c4-84d1-82afa8683de1",
   "metadata": {},
   "source": [
    "--------------------------------------------------------------------------------------------------------------------------------------------------------\n",
    "\n",
    "Bussiness Objective :\n",
    "\n",
    "\n",
    "Understand Sales Patterns: Analyze historical sales data to identify trends and patterns related to previous models. This includes understanding which models were most popular in specific regions and why.\n",
    "\n",
    "Segment Target Audiences: Identify different customer segments based on purchasing behavior and preferences in various regions, helping to tailor marketing strategies to specific demographics.\n",
    "\n",
    "Optimize Marketing Strategies: Use insights from Association Rule Learning to design targeted marketing campaigns that emphasize features and promotions relevant to specific customer segments and regions.\n",
    "\n",
    "Guide Product Launch Strategy: Determine the most effective channels and approaches for launching the new phone models based on past sales data, ensuring that resources are allocated efficiently.\n",
    "\n",
    "Increase Sales Revenue: Ultimately, the goal is to enhance the sales of the new phone models through data-driven marketing strategies that resonate with potential customers."
   ]
  },
  {
   "cell_type": "markdown",
   "id": "94db7c14-998a-48b1-b043-bbbd74271dca",
   "metadata": {},
   "source": [
    "--------------------------------------------------------------------------------------------------------------------------------------------------------\n",
    "\n",
    "Constraints :\n",
    "\n",
    "Data Quality and Availability: The effectiveness of the analysis relies on the quality and comprehensiveness of historical sales data. Incomplete or inaccurate data can lead to misleading insights.\n",
    "\n",
    "Privacy Regulations: Compliance with data privacy laws (such as GDPR or CCPA) is crucial. The analysis must ensure that customer data is handled ethically and legally.\n",
    "\n",
    "Budget Constraints: Limited financial resources may restrict the ability to implement marketing strategies based on the findings.\n",
    "\n",
    "Market Variability: Customer preferences can change rapidly due to external factors (e.g., technological advancements, economic conditions), making it challenging to predict future sales accurately.\n",
    "\n",
    "Technical Expertise: The company may require skilled personnel to analyze the data and interpret the results effectively, which may necessitate investment in training or hiring.\n",
    "\n",
    "Time Constraints: The company may have a limited timeframe for analysis before the launch, which can affect the depth of insights that can be gathered and implemented."
   ]
  },
  {
   "cell_type": "code",
   "execution_count": 5,
   "id": "f73e3d77-6d6f-4f2d-b753-0d08b7f316b7",
   "metadata": {},
   "outputs": [],
   "source": [
    "#First import all the libraries\n",
    "import pandas as pd\n",
    "from mlxtend.frequent_patterns import apriori,association_rules\n",
    "from mlxtend.preprocessing import TransactionEncoder"
   ]
  },
  {
   "cell_type": "code",
   "execution_count": 7,
   "id": "c2c87bfa-d79a-40e5-a36b-d7fd1382304c",
   "metadata": {},
   "outputs": [
    {
     "data": {
      "text/html": [
       "<div>\n",
       "<style scoped>\n",
       "    .dataframe tbody tr th:only-of-type {\n",
       "        vertical-align: middle;\n",
       "    }\n",
       "\n",
       "    .dataframe tbody tr th {\n",
       "        vertical-align: top;\n",
       "    }\n",
       "\n",
       "    .dataframe thead th {\n",
       "        text-align: right;\n",
       "    }\n",
       "</style>\n",
       "<table border=\"1\" class=\"dataframe\">\n",
       "  <thead>\n",
       "    <tr style=\"text-align: right;\">\n",
       "      <th></th>\n",
       "      <th>red</th>\n",
       "      <th>white</th>\n",
       "      <th>green</th>\n",
       "      <th>yellow</th>\n",
       "      <th>orange</th>\n",
       "      <th>blue</th>\n",
       "    </tr>\n",
       "  </thead>\n",
       "  <tbody>\n",
       "    <tr>\n",
       "      <th>0</th>\n",
       "      <td>1</td>\n",
       "      <td>1</td>\n",
       "      <td>1</td>\n",
       "      <td>0</td>\n",
       "      <td>0</td>\n",
       "      <td>0</td>\n",
       "    </tr>\n",
       "    <tr>\n",
       "      <th>1</th>\n",
       "      <td>0</td>\n",
       "      <td>1</td>\n",
       "      <td>0</td>\n",
       "      <td>0</td>\n",
       "      <td>1</td>\n",
       "      <td>0</td>\n",
       "    </tr>\n",
       "    <tr>\n",
       "      <th>2</th>\n",
       "      <td>0</td>\n",
       "      <td>1</td>\n",
       "      <td>0</td>\n",
       "      <td>0</td>\n",
       "      <td>0</td>\n",
       "      <td>1</td>\n",
       "    </tr>\n",
       "    <tr>\n",
       "      <th>3</th>\n",
       "      <td>1</td>\n",
       "      <td>1</td>\n",
       "      <td>0</td>\n",
       "      <td>0</td>\n",
       "      <td>1</td>\n",
       "      <td>0</td>\n",
       "    </tr>\n",
       "    <tr>\n",
       "      <th>4</th>\n",
       "      <td>1</td>\n",
       "      <td>0</td>\n",
       "      <td>0</td>\n",
       "      <td>0</td>\n",
       "      <td>0</td>\n",
       "      <td>1</td>\n",
       "    </tr>\n",
       "  </tbody>\n",
       "</table>\n",
       "</div>"
      ],
      "text/plain": [
       "   red  white  green  yellow  orange  blue\n",
       "0    1      1      1       0       0     0\n",
       "1    0      1      0       0       1     0\n",
       "2    0      1      0       0       0     1\n",
       "3    1      1      0       0       1     0\n",
       "4    1      0      0       0       0     1"
      ]
     },
     "execution_count": 7,
     "metadata": {},
     "output_type": "execute_result"
    }
   ],
   "source": [
    "#load dataset\n",
    "df=pd.read_csv(\"myphonedata.csv\")\n",
    "df.head()"
   ]
  },
  {
   "cell_type": "code",
   "execution_count": 11,
   "id": "fa8189c0-1e43-49b8-9817-f1f23ff6b7af",
   "metadata": {},
   "outputs": [
    {
     "name": "stderr",
     "output_type": "stream",
     "text": [
      "C:\\Users\\ADMIN\\anaconda3\\Lib\\site-packages\\mlxtend\\frequent_patterns\\fpcommon.py:109: DeprecationWarning: DataFrames with non-bool types result in worse computationalperformance and their support might be discontinued in the future.Please use a DataFrame with bool type\n",
      "  warnings.warn(\n"
     ]
    },
    {
     "data": {
      "text/html": [
       "<div>\n",
       "<style scoped>\n",
       "    .dataframe tbody tr th:only-of-type {\n",
       "        vertical-align: middle;\n",
       "    }\n",
       "\n",
       "    .dataframe tbody tr th {\n",
       "        vertical-align: top;\n",
       "    }\n",
       "\n",
       "    .dataframe thead th {\n",
       "        text-align: right;\n",
       "    }\n",
       "</style>\n",
       "<table border=\"1\" class=\"dataframe\">\n",
       "  <thead>\n",
       "    <tr style=\"text-align: right;\">\n",
       "      <th></th>\n",
       "      <th>support</th>\n",
       "      <th>itemsets</th>\n",
       "    </tr>\n",
       "  </thead>\n",
       "  <tbody>\n",
       "    <tr>\n",
       "      <th>0</th>\n",
       "      <td>0.545455</td>\n",
       "      <td>(red)</td>\n",
       "    </tr>\n",
       "    <tr>\n",
       "      <th>1</th>\n",
       "      <td>0.636364</td>\n",
       "      <td>(white)</td>\n",
       "    </tr>\n",
       "    <tr>\n",
       "      <th>2</th>\n",
       "      <td>0.181818</td>\n",
       "      <td>(green)</td>\n",
       "    </tr>\n",
       "    <tr>\n",
       "      <th>3</th>\n",
       "      <td>0.181818</td>\n",
       "      <td>(orange)</td>\n",
       "    </tr>\n",
       "    <tr>\n",
       "      <th>4</th>\n",
       "      <td>0.545455</td>\n",
       "      <td>(blue)</td>\n",
       "    </tr>\n",
       "    <tr>\n",
       "      <th>5</th>\n",
       "      <td>0.363636</td>\n",
       "      <td>(red, white)</td>\n",
       "    </tr>\n",
       "    <tr>\n",
       "      <th>6</th>\n",
       "      <td>0.363636</td>\n",
       "      <td>(red, blue)</td>\n",
       "    </tr>\n",
       "    <tr>\n",
       "      <th>7</th>\n",
       "      <td>0.181818</td>\n",
       "      <td>(white, orange)</td>\n",
       "    </tr>\n",
       "    <tr>\n",
       "      <th>8</th>\n",
       "      <td>0.363636</td>\n",
       "      <td>(white, blue)</td>\n",
       "    </tr>\n",
       "    <tr>\n",
       "      <th>9</th>\n",
       "      <td>0.181818</td>\n",
       "      <td>(red, white, blue)</td>\n",
       "    </tr>\n",
       "  </tbody>\n",
       "</table>\n",
       "</div>"
      ],
      "text/plain": [
       "    support            itemsets\n",
       "0  0.545455               (red)\n",
       "1  0.636364             (white)\n",
       "2  0.181818             (green)\n",
       "3  0.181818            (orange)\n",
       "4  0.545455              (blue)\n",
       "5  0.363636        (red, white)\n",
       "6  0.363636         (red, blue)\n",
       "7  0.181818     (white, orange)\n",
       "8  0.363636       (white, blue)\n",
       "9  0.181818  (red, white, blue)"
      ]
     },
     "execution_count": 11,
     "metadata": {},
     "output_type": "execute_result"
    }
   ],
   "source": [
    "#Our dataset is in proper format that is required for Apriori\n",
    "#step2:Apply the apriori algorithm to find frequent itemsets\n",
    "frequent_itemsets=apriori(df,min_support=0.1,use_colnames=True)\n",
    "frequent_itemsets"
   ]
  },
  {
   "cell_type": "code",
   "execution_count": 13,
   "id": "319b760a-8d0f-4ad8-9145-2c96374c9ff3",
   "metadata": {},
   "outputs": [],
   "source": [
    "#step3:Generate association rules from the frequent itemsets\n",
    "rules=association_rules(frequent_itemsets,metric=\"lift\",min_threshold=1)"
   ]
  },
  {
   "cell_type": "code",
   "execution_count": 15,
   "id": "b74aea3c-86c8-4871-8872-1f3f4f5c0c46",
   "metadata": {},
   "outputs": [
    {
     "name": "stdout",
     "output_type": "stream",
     "text": [
      "Frequent Itemsets:\n",
      "    support            itemsets\n",
      "0  0.545455               (red)\n",
      "1  0.636364             (white)\n",
      "2  0.181818             (green)\n",
      "3  0.181818            (orange)\n",
      "4  0.545455              (blue)\n",
      "5  0.363636        (red, white)\n",
      "6  0.363636         (red, blue)\n",
      "7  0.181818     (white, orange)\n",
      "8  0.363636       (white, blue)\n",
      "9  0.181818  (red, white, blue)\n"
     ]
    }
   ],
   "source": [
    "#step4:Output the results\n",
    "print(\"Frequent Itemsets:\")\n",
    "print(frequent_itemsets)"
   ]
  },
  {
   "cell_type": "code",
   "execution_count": 17,
   "id": "057b2a64-d51e-4619-a30b-fe2de8bced36",
   "metadata": {},
   "outputs": [
    {
     "name": "stdout",
     "output_type": "stream",
     "text": [
      "\n",
      "Association Rules:\n",
      "  antecedents consequents   support  confidence      lift\n",
      "0       (red)     (white)  0.363636    0.666667  1.047619\n",
      "1     (white)       (red)  0.363636    0.571429  1.047619\n",
      "2       (red)      (blue)  0.363636    0.666667  1.222222\n",
      "3      (blue)       (red)  0.363636    0.666667  1.222222\n",
      "4     (white)    (orange)  0.181818    0.285714  1.571429\n",
      "5    (orange)     (white)  0.181818    1.000000  1.571429\n",
      "6     (white)      (blue)  0.363636    0.571429  1.047619\n",
      "7      (blue)     (white)  0.363636    0.666667  1.047619\n"
     ]
    }
   ],
   "source": [
    "print(\"\\nAssociation Rules:\")\n",
    "print(rules[['antecedents','consequents','support','confidence','lift']])\n"
   ]
  },
  {
   "cell_type": "markdown",
   "id": "63d5e7a5-50a7-4bca-a85f-1344af9ffcca",
   "metadata": {},
   "source": [
    "The implementation of Association Rule Learning to analyze previous mobile phone sales provides significant benefits to the manufacturing company. By leveraging historical sales data, the company can make data-driven decisions and enhance targeting for marketing campaigns, leading to improved engagement and conversion rates. Insights into regional sales patterns inform tailored product launch strategies, maximizing the chances of success for new models. This approach allows for optimized resource allocation, ensuring marketing budgets are used effectively. Ultimately, the company gains a competitive advantage and fosters continuous improvement by refining strategies based on real-time feedback, driving increased sales revenue and customer satisfaction."
   ]
  },
  {
   "cell_type": "code",
   "execution_count": null,
   "id": "ce112055-53cb-4634-b9f7-6b54ca9a9f1a",
   "metadata": {},
   "outputs": [],
   "source": []
  }
 ],
 "metadata": {
  "kernelspec": {
   "display_name": "Python 3 (ipykernel)",
   "language": "python",
   "name": "python3"
  },
  "language_info": {
   "codemirror_mode": {
    "name": "ipython",
    "version": 3
   },
   "file_extension": ".py",
   "mimetype": "text/x-python",
   "name": "python",
   "nbconvert_exporter": "python",
   "pygments_lexer": "ipython3",
   "version": "3.11.7"
  }
 },
 "nbformat": 4,
 "nbformat_minor": 5
}

{
 "cells": [
  {
   "cell_type": "code",
   "execution_count": 1,
   "id": "a4285332-b601-4383-b3f4-b484a59c3110",
   "metadata": {},
   "outputs": [
    {
     "data": {
      "text/plain": [
       "\"\\nProblem statement:\\nThis dataset contains information of users in a social network. This social network has several business clients who can post ads on it.\\nOne of the clients have a car company who just launched a new SUV for a ridiculous price. \\nBuild a Bernoulli Naive Bayes model using this dataset and classify which of the users of the social network are going to purchase this luxury SUV.\\n implies that there was a purchase and 0 implies that there wasn't a purchase.\\n\\n1. Business problem:\\n1.1. What is the business objective?\\nThe business objective is to identify the most likely customers within the social network who are interested in purchasing the newly launched luxury SUV.\\nBy accurately predicting which users are potential buyers, the car company can:\\nTarget their marketing efforts effectively: Focus advertising campaigns (e.g., display ads, sponsored posts) on the identified user segments.\\nOptimize advertising spend: Allocate resources efficiently by concentrating on the most promising leads.\\n\\n1.2 Are there any constraints?\\nData Quality: The accuracy and completeness of the user data will significantly impact the model's performance.\\nModel Interpretability: The model should be relatively easy to interpret so that the car company can understand the factors driving the predictions.\\nEthical Considerations: Ensure that the model is not biased or discriminatory against any particular user group.\\n\\n\""
      ]
     },
     "execution_count": 1,
     "metadata": {},
     "output_type": "execute_result"
    }
   ],
   "source": [
    "'''\n",
    "Problem statement:\n",
    "This dataset contains information of users in a social network. This social network has several business clients who can post ads on it.\n",
    "One of the clients have a car company who just launched a new SUV for a ridiculous price. \n",
    "Build a Bernoulli Naive Bayes model using this dataset and classify which of the users of the social network are going to purchase this luxury SUV.\n",
    " implies that there was a purchase and 0 implies that there wasn't a purchase.\n",
    "\n",
    "1. Business problem:\n",
    "1.1. What is the business objective?\n",
    "The business objective is to identify the most likely customers within the social network who are interested in purchasing the newly launched luxury SUV.\n",
    "By accurately predicting which users are potential buyers, the car company can:\n",
    "Target their marketing efforts effectively: Focus advertising campaigns (e.g., display ads, sponsored posts) on the identified user segments.\n",
    "Optimize advertising spend: Allocate resources efficiently by concentrating on the most promising leads.\n",
    "\n",
    "1.2 Are there any constraints?\n",
    "Data Quality: The accuracy and completeness of the user data will significantly impact the model's performance.\n",
    "Model Interpretability: The model should be relatively easy to interpret so that the car company can understand the factors driving the predictions.\n",
    "Ethical Considerations: Ensure that the model is not biased or discriminatory against any particular user group.\n",
    "\n",
    "'''\n"
   ]
  },
  {
   "cell_type": "code",
   "execution_count": 3,
   "id": "cd440f7c-0860-4a07-9850-e564fac5d02a",
   "metadata": {},
   "outputs": [
    {
     "data": {
      "text/plain": [
       "'\\nData dictionary\\n\\nUser ID: Integer type which is not contributory\\nGender : Object type need to be label encoding\\nAge : Integer\\nEstimatedSalary : Integer\\nPurchased : Integer type\\n'"
      ]
     },
     "execution_count": 3,
     "metadata": {},
     "output_type": "execute_result"
    }
   ],
   "source": [
    "#2.\tWork on each feature of the dataset to create a data dictionary as displayed in the below image:\n",
    "'''\n",
    "Data dictionary\n",
    "\n",
    "User ID: Integer type which is not contributory\n",
    "Gender : Object type need to be label encoding\n",
    "Age : Integer\n",
    "EstimatedSalary : Integer\n",
    "Purchased : Integer type\n",
    "'''"
   ]
  },
  {
   "cell_type": "code",
   "execution_count": 4,
   "id": "8f94fe85-a893-4a2c-9e66-8889a848d933",
   "metadata": {},
   "outputs": [],
   "source": [
    "import pandas as pd\n",
    "import numpy as np\n",
    "import matplotlib.pyplot as plt\n",
    "#import the dataset\n",
    "car = pd.read_csv('NB_Car_Ad.csv')"
   ]
  },
  {
   "cell_type": "code",
   "execution_count": 5,
   "id": "4ac6bd60-b0ee-4dba-a418-d14bd0adddd5",
   "metadata": {},
   "outputs": [
    {
     "data": {
      "text/plain": [
       "'\\n3.\\tData Pre-processing\\n3.1 Data Cleaning, Feature Engineering, etc.\\n4.\\tExploratory Data Analysis (EDA):\\n4.1.\\tSummary.\\n4.2.\\tUnivariate analysis.\\n4.3.\\tBivariate analysis.\\n'"
      ]
     },
     "execution_count": 5,
     "metadata": {},
     "output_type": "execute_result"
    }
   ],
   "source": [
    "'''\n",
    "3.\tData Pre-processing\n",
    "3.1 Data Cleaning, Feature Engineering, etc.\n",
    "4.\tExploratory Data Analysis (EDA):\n",
    "4.1.\tSummary.\n",
    "4.2.\tUnivariate analysis.\n",
    "4.3.\tBivariate analysis.\n",
    "'''"
   ]
  },
  {
   "cell_type": "code",
   "execution_count": 6,
   "id": "0061e884-fd7b-441f-b8ce-2c90eeb4e0e9",
   "metadata": {},
   "outputs": [
    {
     "name": "stdout",
     "output_type": "stream",
     "text": [
      "Index(['User ID', 'Gender', 'Age', 'EstimatedSalary', 'Purchased'], dtype='object')\n",
      "User ID             int64\n",
      "Gender             object\n",
      "Age                 int64\n",
      "EstimatedSalary     int64\n",
      "Purchased           int64\n",
      "dtype: object\n"
     ]
    }
   ],
   "source": [
    "#exploratory data analysis\n",
    "print(car.columns)\n",
    "print(car.dtypes)"
   ]
  },
  {
   "cell_type": "code",
   "execution_count": 7,
   "id": "f7b00d1e-7321-4a04-9e1e-4b6d52334116",
   "metadata": {},
   "outputs": [],
   "source": [
    "#with the help of above data we hace built dictionary in our second question"
   ]
  },
  {
   "cell_type": "code",
   "execution_count": 8,
   "id": "f711156b-c899-43b4-999c-5b4e5acd914e",
   "metadata": {},
   "outputs": [
    {
     "name": "stdout",
     "output_type": "stream",
     "text": [
      "            User ID         Age  EstimatedSalary   Purchased\n",
      "count  4.000000e+02  400.000000       400.000000  400.000000\n",
      "mean   1.569154e+07   37.655000     69742.500000    0.357500\n",
      "std    7.165832e+04   10.482877     34096.960282    0.479864\n",
      "min    1.556669e+07   18.000000     15000.000000    0.000000\n",
      "25%    1.562676e+07   29.750000     43000.000000    0.000000\n",
      "50%    1.569434e+07   37.000000     70000.000000    0.000000\n",
      "75%    1.575036e+07   46.000000     88000.000000    1.000000\n",
      "max    1.581524e+07   60.000000    150000.000000    1.000000\n"
     ]
    }
   ],
   "source": [
    "print(car.describe())"
   ]
  },
  {
   "cell_type": "code",
   "execution_count": 9,
   "id": "29c83597-7517-491b-8cb6-d14e49d35b0d",
   "metadata": {},
   "outputs": [],
   "source": [
    "#OBSERVATION:\n",
    "#min age of users are 18 years \n",
    "#max age of user is  60 years\n",
    "#average age is 37.65\n",
    "#min salary is 15000\n",
    "#max salary is 1,50,000\n",
    "#average salary is 69742"
   ]
  },
  {
   "cell_type": "code",
   "execution_count": 10,
   "id": "55784c84-7355-412b-95f8-702842c31fb0",
   "metadata": {},
   "outputs": [
    {
     "data": {
      "text/plain": [
       "User ID            0\n",
       "Gender             0\n",
       "Age                0\n",
       "EstimatedSalary    0\n",
       "Purchased          0\n",
       "dtype: int64"
      ]
     },
     "execution_count": 10,
     "metadata": {},
     "output_type": "execute_result"
    }
   ],
   "source": [
    "car.isna().sum()"
   ]
  },
  {
   "cell_type": "code",
   "execution_count": 11,
   "id": "4b9c7c68-f559-462a-8bd5-43bc19739f19",
   "metadata": {},
   "outputs": [],
   "source": [
    "#no empty cell data "
   ]
  },
  {
   "cell_type": "code",
   "execution_count": 12,
   "id": "573bf665-8d9c-410d-8c23-c5e3addc3d5e",
   "metadata": {},
   "outputs": [
    {
     "name": "stdout",
     "output_type": "stream",
     "text": [
      "Gender             object\n",
      "Age                 int64\n",
      "EstimatedSalary     int64\n",
      "Purchased           int64\n",
      "dtype: object\n"
     ]
    }
   ],
   "source": [
    "#the column USER id is not of use for our model currently so we will drop it\n",
    "car.drop(['User ID'],axis=1,inplace=True)\n",
    "\n",
    "print(car.dtypes)\n",
    "\n",
    "#lets check distribution after that"
   ]
  },
  {
   "cell_type": "code",
   "execution_count": 13,
   "id": "7d19258c-c6ff-4ad7-b64a-2eafa4e554e6",
   "metadata": {},
   "outputs": [
    {
     "data": {
      "text/plain": [
       "(array([28., 37., 46., 35., 77., 65., 35., 31., 18., 28.]),\n",
       " array([18. , 22.2, 26.4, 30.6, 34.8, 39. , 43.2, 47.4, 51.6, 55.8, 60. ]),\n",
       " <BarContainer object of 10 artists>)"
      ]
     },
     "execution_count": 13,
     "metadata": {},
     "output_type": "execute_result"
    },
    {
     "data": {
      "image/png": "[encoded data removed]",
      "text/plain": [
       "<Figure size 640x480 with 1 Axes>"
      ]
     },
     "metadata": {},
     "output_type": "display_data"
    }
   ],
   "source": [
    "plt.hist(car.Age)"
   ]
  },
  {
   "cell_type": "code",
   "execution_count": 14,
   "id": "6c85e9f5-94e5-4c71-88d6-43104d49e6e6",
   "metadata": {},
   "outputs": [],
   "source": [
    "#Age is normally distributed"
   ]
  },
  {
   "cell_type": "code",
   "execution_count": 15,
   "id": "665fb446-1ed3-472e-baae-4e89a9320424",
   "metadata": {},
   "outputs": [
    {
     "data": {
      "text/plain": [
       "(array([51., 39., 58., 50., 82., 40., 22., 19., 17., 22.]),\n",
       " array([ 15000.,  28500.,  42000.,  55500.,  69000.,  82500.,  96000.,\n",
       "        109500., 123000., 136500., 150000.]),\n",
       " <BarContainer object of 10 artists>)"
      ]
     },
     "execution_count": 15,
     "metadata": {},
     "output_type": "execute_result"
    },
    {
     "data": {
      "image/png": "[encoded data removed]",
      "text/plain": [
       "<Figure size 640x480 with 1 Axes>"
      ]
     },
     "metadata": {},
     "output_type": "display_data"
    }
   ],
   "source": [
    "plt.hist(car.EstimatedSalary)"
   ]
  },
  {
   "cell_type": "code",
   "execution_count": 16,
   "id": "d2e4d237-064e-4d98-9a23-e6f598588627",
   "metadata": {},
   "outputs": [
    {
     "data": {
      "text/plain": [
       "Gender             object\n",
       "Age                 int64\n",
       "EstimatedSalary     int64\n",
       "Purchased           int64\n",
       "dtype: object"
      ]
     },
     "execution_count": 16,
     "metadata": {},
     "output_type": "execute_result"
    }
   ],
   "source": [
    "#normally distributed but right skewed\n",
    "#so we will require Data preprocessing\n",
    "car.dtypes"
   ]
  },
  {
   "cell_type": "code",
   "execution_count": 17,
   "id": "3093272e-32fe-4720-ad35-8c2e24628604",
   "metadata": {},
   "outputs": [],
   "source": [
    "#the column gender is of object type, klet us apply label encoder\n",
    "from sklearn.preprocessing import LabelEncoder\n",
    "label_encoder=LabelEncoder()\n",
    "#this is model of label encoder which is applied to all the object types of the data\n",
    "car['Gender']=label_encoder.fit_transform(car['Gender'])"
   ]
  },
  {
   "cell_type": "code",
   "execution_count": 18,
   "id": "f522fcfb-1e02-4560-a14c-acbe25a4a7bc",
   "metadata": {},
   "outputs": [
    {
     "data": {
      "text/html": [
       "<div>\n",
       "<style scoped>\n",
       "    .dataframe tbody tr th:only-of-type {\n",
       "        vertical-align: middle;\n",
       "    }\n",
       "\n",
       "    .dataframe tbody tr th {\n",
       "        vertical-align: top;\n",
       "    }\n",
       "\n",
       "    .dataframe thead th {\n",
       "        text-align: right;\n",
       "    }\n",
       "</style>\n",
       "<table border=\"1\" class=\"dataframe\">\n",
       "  <thead>\n",
       "    <tr style=\"text-align: right;\">\n",
       "      <th></th>\n",
       "      <th>Gender</th>\n",
       "      <th>Age</th>\n",
       "      <th>EstimatedSalary</th>\n",
       "      <th>Purchased</th>\n",
       "    </tr>\n",
       "  </thead>\n",
       "  <tbody>\n",
       "    <tr>\n",
       "      <th>count</th>\n",
       "      <td>400.000000</td>\n",
       "      <td>400.000000</td>\n",
       "      <td>400.000000</td>\n",
       "      <td>400.000000</td>\n",
       "    </tr>\n",
       "    <tr>\n",
       "      <th>mean</th>\n",
       "      <td>0.490000</td>\n",
       "      <td>0.467976</td>\n",
       "      <td>0.405500</td>\n",
       "      <td>0.357500</td>\n",
       "    </tr>\n",
       "    <tr>\n",
       "      <th>std</th>\n",
       "      <td>0.500526</td>\n",
       "      <td>0.249592</td>\n",
       "      <td>0.252570</td>\n",
       "      <td>0.479864</td>\n",
       "    </tr>\n",
       "    <tr>\n",
       "      <th>min</th>\n",
       "      <td>0.000000</td>\n",
       "      <td>0.000000</td>\n",
       "      <td>0.000000</td>\n",
       "      <td>0.000000</td>\n",
       "    </tr>\n",
       "    <tr>\n",
       "      <th>25%</th>\n",
       "      <td>0.000000</td>\n",
       "      <td>0.279762</td>\n",
       "      <td>0.207407</td>\n",
       "      <td>0.000000</td>\n",
       "    </tr>\n",
       "    <tr>\n",
       "      <th>50%</th>\n",
       "      <td>0.000000</td>\n",
       "      <td>0.452381</td>\n",
       "      <td>0.407407</td>\n",
       "      <td>0.000000</td>\n",
       "    </tr>\n",
       "    <tr>\n",
       "      <th>75%</th>\n",
       "      <td>1.000000</td>\n",
       "      <td>0.666667</td>\n",
       "      <td>0.540741</td>\n",
       "      <td>1.000000</td>\n",
       "    </tr>\n",
       "    <tr>\n",
       "      <th>max</th>\n",
       "      <td>1.000000</td>\n",
       "      <td>1.000000</td>\n",
       "      <td>1.000000</td>\n",
       "      <td>1.000000</td>\n",
       "    </tr>\n",
       "  </tbody>\n",
       "</table>\n",
       "</div>"
      ],
      "text/plain": [
       "           Gender         Age  EstimatedSalary   Purchased\n",
       "count  400.000000  400.000000       400.000000  400.000000\n",
       "mean     0.490000    0.467976         0.405500    0.357500\n",
       "std      0.500526    0.249592         0.252570    0.479864\n",
       "min      0.000000    0.000000         0.000000    0.000000\n",
       "25%      0.000000    0.279762         0.207407    0.000000\n",
       "50%      0.000000    0.452381         0.407407    0.000000\n",
       "75%      1.000000    0.666667         0.540741    1.000000\n",
       "max      1.000000    1.000000         1.000000    1.000000"
      ]
     },
     "execution_count": 18,
     "metadata": {},
     "output_type": "execute_result"
    }
   ],
   "source": [
    "#now let's apply normalizationn function\n",
    "def norm_func(i):\n",
    "    x=(i-i.min())/(i.max()-i.min())\n",
    "    return x\n",
    "\n",
    "car_norm=norm_func(car)\n",
    "car_norm.describe()"
   ]
  },
  {
   "cell_type": "code",
   "execution_count": 19,
   "id": "2ffa0aea-a996-4a38-93a7-f56046efb2a4",
   "metadata": {},
   "outputs": [],
   "source": [
    "#WE HAVE DONE WITH DATA PART NOW"
   ]
  },
  {
   "cell_type": "code",
   "execution_count": 20,
   "id": "16041708-37a7-4fc2-a999-2549772a83da",
   "metadata": {},
   "outputs": [],
   "source": [
    "#now let us designate train data ad test data\n",
    "from sklearn.model_selection import train_test_split\n",
    "car_train,car_test=train_test_split(car_norm, test_size=0.2)\n",
    "col_names1=list(car_train.columns)\n",
    "train_X=car_train[col_names1[0:2]]\n",
    "train_y=car_train[col_names1[3]]\n",
    "col_names2=list(car_train.columns)\n",
    "test_X=car_test[col_names2[0:2]]\n",
    "test_y=car_test[col_names2[3]]"
   ]
  },
  {
   "cell_type": "code",
   "execution_count": 21,
   "id": "902698b2-e433-42fd-b2c3-d5e48a4e884e",
   "metadata": {},
   "outputs": [],
   "source": [
    "#model building\n",
    "#build the model on the scaled data\n",
    "#build a naive bayes model\n",
    "#like MultinomialNB, this classifier is suitable for discrete data.\n",
    "#Bernoulli Naive Bayes is designed for binary/boolean features\n",
    "from sklearn.naive_bayes import BernoulliNB as BB\n",
    "classifier_bb=BB()\n",
    "classifier_bb.fit(train_X,train_y)\n",
    "#let's evaluate the test data\n",
    "test_pred_b=classifier_bb.predict(test_X)"
   ]
  },
  {
   "cell_type": "code",
   "execution_count": 22,
   "id": "00050c1e-2719-4956-ac45-a24272fff8d2",
   "metadata": {},
   "outputs": [
    {
     "data": {
      "text/plain": [
       "0.6125"
      ]
     },
     "execution_count": 22,
     "metadata": {},
     "output_type": "execute_result"
    }
   ],
   "source": [
    "#accuracy of the prediction\n",
    "accuracy_test_b=np.mean(test_pred_b==test_y)\n",
    "accuracy_test_b"
   ]
  },
  {
   "cell_type": "code",
   "execution_count": 23,
   "id": "716428fe-ce13-4e6a-8096-bb0e8440bde0",
   "metadata": {},
   "outputs": [
    {
     "name": "stdout",
     "output_type": "stream",
     "text": [
      "Confusion Matrix:\n",
      " [[49  0]\n",
      " [31  0]]\n",
      "Classification Report:\n",
      "               precision    recall  f1-score   support\n",
      "\n",
      "         0.0       0.61      1.00      0.76        49\n",
      "         1.0       0.00      0.00      0.00        31\n",
      "\n",
      "    accuracy                           0.61        80\n",
      "   macro avg       0.31      0.50      0.38        80\n",
      "weighted avg       0.38      0.61      0.47        80\n",
      "\n"
     ]
    },
    {
     "name": "stderr",
     "output_type": "stream",
     "text": [
      "C:\\Users\\viren\\anaconda3\\Lib\\site-packages\\sklearn\\metrics\\_classification.py:1344: UndefinedMetricWarning: Precision and F-score are ill-defined and being set to 0.0 in labels with no predicted samples. Use `zero_division` parameter to control this behavior.\n",
      "  _warn_prf(average, modifier, msg_start, len(result))\n",
      "C:\\Users\\viren\\anaconda3\\Lib\\site-packages\\sklearn\\metrics\\_classification.py:1344: UndefinedMetricWarning: Precision and F-score are ill-defined and being set to 0.0 in labels with no predicted samples. Use `zero_division` parameter to control this behavior.\n",
      "  _warn_prf(average, modifier, msg_start, len(result))\n",
      "C:\\Users\\viren\\anaconda3\\Lib\\site-packages\\sklearn\\metrics\\_classification.py:1344: UndefinedMetricWarning: Precision and F-score are ill-defined and being set to 0.0 in labels with no predicted samples. Use `zero_division` parameter to control this behavior.\n",
      "  _warn_prf(average, modifier, msg_start, len(result))\n"
     ]
    }
   ],
   "source": [
    "# Confusion Matrix and Classification Report\n",
    "from sklearn.metrics import confusion_matrix, classification_report\n",
    "conf_matrix = confusion_matrix(test_y, test_pred_b)\n",
    "print(\"Confusion Matrix:\\n\", conf_matrix)\n",
    "\n",
    "class_report = classification_report(test_y, test_pred_b)\n",
    "print(\"Classification Report:\\n\", class_report)"
   ]
  },
  {
   "cell_type": "code",
   "execution_count": 24,
   "id": "e5a70838-2817-426c-ad20-ceeb09606135",
   "metadata": {},
   "outputs": [
    {
     "data": {
      "image/png": "[encoded data removed]",
      "text/plain": [
       "<Figure size 800x600 with 2 Axes>"
      ]
     },
     "metadata": {},
     "output_type": "display_data"
    }
   ],
   "source": [
    "# Visualizing the results\n",
    "plt.figure(figsize=(8, 6))\n",
    "plt.title(\"Confusion Matrix\")\n",
    "plt.imshow(conf_matrix, cmap='Blues', interpolation='nearest')\n",
    "plt.colorbar()\n",
    "plt.xticks(ticks=[0, 1], labels=[\"No Purchase\", \"Purchase\"])\n",
    "plt.yticks(ticks=[0, 1], labels=[\"No Purchase\", \"Purchase\"])\n",
    "plt.xlabel(\"Predicted Label\")\n",
    "plt.ylabel(\"True Label\")\n",
    "\n",
    "for i in range(2):\n",
    "    for j in range(2):\n",
    "        plt.text(j, i, conf_matrix[i, j], ha='center', va='center', color='red')\n",
    "\n",
    "plt.show()"
   ]
  },
  {
   "cell_type": "code",
   "execution_count": 26,
   "id": "0ef5dc03-0575-4eaa-8aa3-0cb6fe57f118",
   "metadata": {},
   "outputs": [],
   "source": [
    "# Insights\n",
    "#1. The test accuracy indicates how well the model predicts unseen data.\n",
    "#2. The confusion matrix provides a detailed breakdown of true positives, true negatives, false positives, and false negatives.\n",
    "#3. The classification report highlights precision, recall, and F1-score for each class."
   ]
  },
  {
   "cell_type": "code",
   "execution_count": null,
   "id": "f12e57a7-15ef-44e2-9d59-6196c8cc6d1d",
   "metadata": {},
   "outputs": [],
   "source": [
    "#6. Write about the benefits/impact of the solution - in what way does the business (client) benefit from the solution provided?\n",
    "'''\n",
    "1.Increased Marketing Efficiency By identifying the most likely buyers, the company can target its marketing efforts precisely.\n",
    "2.Focusing on the most promising leads increases the chances of converting potential customers into actual buyers.\n",
    "3.The model can provide insights into the factors that influence purchase decisions. This information can be used to refine product offerings,\n",
    "improve marketing strategies.\n",
    "'''"
   ]
  }
 ],
 "metadata": {
  "kernelspec": {
   "display_name": "Python 3 (ipykernel)",
   "language": "python",
   "name": "python3"
  },
  "language_info": {
   "codemirror_mode": {
    "name": "ipython",
    "version": 3
   },
   "file_extension": ".py",
   "mimetype": "text/x-python",
   "name": "python",
   "nbconvert_exporter": "python",
   "pygments_lexer": "ipython3",
   "version": "3.11.7"
  }
 },
 "nbformat": 4,
 "nbformat_minor": 5
}

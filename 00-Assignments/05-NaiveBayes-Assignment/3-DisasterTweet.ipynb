{
 "cells": [
  {
   "cell_type": "code",
   "execution_count": 1,
   "id": "75a09ca4-87cc-4bb3-b29e-abc4777063a5",
   "metadata": {},
   "outputs": [
    {
     "data": {
      "text/plain": [
       "'Problem Statement 3\\nIn this case study, you have been given Twitter data collected from an anonymous twitter handle. With the help of a Naïve Bayes model, \\npredict if a given tweet about a real disaster is real or fake. 1 = real tweet and 0 = fake tweet\\n\\nBusiness Objective:\\nPredict whether a given tweet is about a real disaster or not, helping emergency services, researchers, or policymakers assess and respond effectively.\\n\\nConstraints:\\nHandle missing data in keyword and location.\\nProcess unstructured text data from the text column.\\n\\n'"
      ]
     },
     "execution_count": 1,
     "metadata": {},
     "output_type": "execute_result"
    }
   ],
   "source": [
    "'''Problem Statement 3\n",
    "In this case study, you have been given Twitter data collected from an anonymous twitter handle. With the help of a Naïve Bayes model, \n",
    "predict if a given tweet about a real disaster is real or fake. 1 = real tweet and 0 = fake tweet\n",
    "\n",
    "Business Objective:\n",
    "Predict whether a given tweet is about a real disaster or not, helping emergency services, researchers, or policymakers assess and respond effectively.\n",
    "\n",
    "Constraints:\n",
    "Handle missing data in keyword and location.\n",
    "Process unstructured text data from the text column.\n",
    "\n",
    "'''"
   ]
  },
  {
   "cell_type": "code",
   "execution_count": 2,
   "id": "0d8f561a-1648-4eda-92fc-31c819ffc529",
   "metadata": {},
   "outputs": [
    {
     "data": {
      "text/plain": [
       "'\\nFeature Name     ,Data Type,        Description,                                         Example Value\\nid,               Integer,      Unique identifier for the tweet,                               1\\nkeyword,          String    ,Keyword related to disaster (if present in tweet),               NaN\\nlocation,        String,       Location from which the tweet was sent,                        NaN\\ntext,          String,            The tweet text,                            \"13,000 people receive #wildfires evacuation orders in California.\"\\ntarget,         Integer,      Label indicating if the tweet is real (1) or fake (0),           1\\n\\n'"
      ]
     },
     "execution_count": 2,
     "metadata": {},
     "output_type": "execute_result"
    }
   ],
   "source": [
    "'''\n",
    "Feature Name     ,Data Type,        Description,                                         Example Value\n",
    "id,               Integer,      Unique identifier for the tweet,                               1\n",
    "keyword,          String    ,Keyword related to disaster (if present in tweet),               NaN\n",
    "location,        String,       Location from which the tweet was sent,                        NaN\n",
    "text,          String,            The tweet text,                            \"13,000 people receive #wildfires evacuation orders in California.\"\n",
    "target,         Integer,      Label indicating if the tweet is real (1) or fake (0),           1\n",
    "\n",
    "'''"
   ]
  },
  {
   "cell_type": "code",
   "execution_count": 3,
   "id": "d078e4b5-ebd4-4758-83b0-d0a4bc33b5f9",
   "metadata": {},
   "outputs": [],
   "source": [
    "import pandas as pd\n",
    "from sklearn.model_selection import train_test_split\n",
    "from sklearn.feature_extraction.text import CountVectorizer\n",
    "from sklearn.naive_bayes import MultinomialNB\n",
    "from sklearn.metrics import accuracy_score, classification_report"
   ]
  },
  {
   "cell_type": "code",
   "execution_count": 4,
   "id": "3117eba5-42fb-4849-8ac6-c1748139ae93",
   "metadata": {},
   "outputs": [],
   "source": [
    "#Load the dataset\n",
    "dataset=pd.read_csv(\"Disaster_tweets_NB.csv\")"
   ]
  },
  {
   "cell_type": "code",
   "execution_count": 5,
   "id": "7d0a2bf6-47ac-4800-a9e1-bb907469a031",
   "metadata": {},
   "outputs": [],
   "source": [
    "#Preprocessing\n",
    "#Handle missing values\n",
    "dataset['keyword']=dataset['keyword'].fillna('')\n",
    "dataset['location']=dataset['location'].fillna('')"
   ]
  },
  {
   "cell_type": "code",
   "execution_count": 6,
   "id": "6363e6c9-b9cc-4277-879c-b7679e93e985",
   "metadata": {},
   "outputs": [],
   "source": [
    "#Combine 'keyword', 'location', and 'text' into a single text feature\n",
    "dataset['combined_text']=dataset['keyword']+' ' +dataset['location']+' ' +dataset['text']"
   ]
  },
  {
   "cell_type": "code",
   "execution_count": 7,
   "id": "dae3f0eb-f0c6-45a7-a06d-adbc57c39751",
   "metadata": {},
   "outputs": [],
   "source": [
    "#Define features and labels\n",
    "X=dataset['combined_text']\n",
    "y=dataset['target']"
   ]
  },
  {
   "cell_type": "code",
   "execution_count": 8,
   "id": "e1c5d4b6-f2e5-4c5d-bd5a-c6d722a1170d",
   "metadata": {},
   "outputs": [],
   "source": [
    "#Split the data into training and testing sets\n",
    "X_train,X_test,y_train,y_test=train_test_split(X,y,test_size=0.2,random_state=42,stratify=y)"
   ]
  },
  {
   "cell_type": "code",
   "execution_count": 9,
   "id": "ba350d25-6e7f-4a62-9448-545773718963",
   "metadata": {},
   "outputs": [],
   "source": [
    "#Feature Extraction\n",
    "vectorizer=CountVectorizer(stop_words='english')  # Convert text to numerical features\n",
    "X_train_vectors=vectorizer.fit_transform(X_train)\n",
    "X_test_vectors=vectorizer.transform(X_test)"
   ]
  },
  {
   "cell_type": "code",
   "execution_count": 10,
   "id": "c081d236-45b4-4354-8384-0b0ac29b82d3",
   "metadata": {},
   "outputs": [
    {
     "data": {
      "text/html": [
       "<style>#sk-container-id-1 {color: black;background-color: white;}#sk-container-id-1 pre{padding: 0;}#sk-container-id-1 div.sk-toggleable {background-color: white;}#sk-container-id-1 label.sk-toggleable__label {cursor: pointer;display: block;width: 100%;margin-bottom: 0;padding: 0.3em;box-sizing: border-box;text-align: center;}#sk-container-id-1 label.sk-toggleable__label-arrow:before {content: \"▸\";float: left;margin-right: 0.25em;color: #696969;}#sk-container-id-1 label.sk-toggleable__label-arrow:hover:before {color: black;}#sk-container-id-1 div.sk-estimator:hover label.sk-toggleable__label-arrow:before {color: black;}#sk-container-id-1 div.sk-toggleable__content {max-height: 0;max-width: 0;overflow: hidden;text-align: left;background-color: #f0f8ff;}#sk-container-id-1 div.sk-toggleable__content pre {margin: 0.2em;color: black;border-radius: 0.25em;background-color: #f0f8ff;}#sk-container-id-1 input.sk-toggleable__control:checked~div.sk-toggleable__content {max-height: 200px;max-width: 100%;overflow: auto;}#sk-container-id-1 input.sk-toggleable__control:checked~label.sk-toggleable__label-arrow:before {content: \"▾\";}#sk-container-id-1 div.sk-estimator input.sk-toggleable__control:checked~label.sk-toggleable__label {background-color: #d4ebff;}#sk-container-id-1 div.sk-label input.sk-toggleable__control:checked~label.sk-toggleable__label {background-color: #d4ebff;}#sk-container-id-1 input.sk-hidden--visually {border: 0;clip: rect(1px 1px 1px 1px);clip: rect(1px, 1px, 1px, 1px);height: 1px;margin: -1px;overflow: hidden;padding: 0;position: absolute;width: 1px;}#sk-container-id-1 div.sk-estimator {font-family: monospace;background-color: #f0f8ff;border: 1px dotted black;border-radius: 0.25em;box-sizing: border-box;margin-bottom: 0.5em;}#sk-container-id-1 div.sk-estimator:hover {background-color: #d4ebff;}#sk-container-id-1 div.sk-parallel-item::after {content: \"\";width: 100%;border-bottom: 1px solid gray;flex-grow: 1;}#sk-container-id-1 div.sk-label:hover label.sk-toggleable__label {background-color: #d4ebff;}#sk-container-id-1 div.sk-serial::before {content: \"\";position: absolute;border-left: 1px solid gray;box-sizing: border-box;top: 0;bottom: 0;left: 50%;z-index: 0;}#sk-container-id-1 div.sk-serial {display: flex;flex-direction: column;align-items: center;background-color: white;padding-right: 0.2em;padding-left: 0.2em;position: relative;}#sk-container-id-1 div.sk-item {position: relative;z-index: 1;}#sk-container-id-1 div.sk-parallel {display: flex;align-items: stretch;justify-content: center;background-color: white;position: relative;}#sk-container-id-1 div.sk-item::before, #sk-container-id-1 div.sk-parallel-item::before {content: \"\";position: absolute;border-left: 1px solid gray;box-sizing: border-box;top: 0;bottom: 0;left: 50%;z-index: -1;}#sk-container-id-1 div.sk-parallel-item {display: flex;flex-direction: column;z-index: 1;position: relative;background-color: white;}#sk-container-id-1 div.sk-parallel-item:first-child::after {align-self: flex-end;width: 50%;}#sk-container-id-1 div.sk-parallel-item:last-child::after {align-self: flex-start;width: 50%;}#sk-container-id-1 div.sk-parallel-item:only-child::after {width: 0;}#sk-container-id-1 div.sk-dashed-wrapped {border: 1px dashed gray;margin: 0 0.4em 0.5em 0.4em;box-sizing: border-box;padding-bottom: 0.4em;background-color: white;}#sk-container-id-1 div.sk-label label {font-family: monospace;font-weight: bold;display: inline-block;line-height: 1.2em;}#sk-container-id-1 div.sk-label-container {text-align: center;}#sk-container-id-1 div.sk-container {/* jupyter's `normalize.less` sets `[hidden] { display: none; }` but bootstrap.min.css set `[hidden] { display: none !important; }` so we also need the `!important` here to be able to override the default hidden behavior on the sphinx rendered scikit-learn.org. See: https://github.com/scikit-learn/scikit-learn/issues/21755 */display: inline-block !important;position: relative;}#sk-container-id-1 div.sk-text-repr-fallback {display: none;}</style><div id=\"sk-container-id-1\" class=\"sk-top-container\"><div class=\"sk-text-repr-fallback\"><pre>MultinomialNB()</pre><b>In a Jupyter environment, please rerun this cell to show the HTML representation or trust the notebook. <br />On GitHub, the HTML representation is unable to render, please try loading this page with nbviewer.org.</b></div><div class=\"sk-container\" hidden><div class=\"sk-item\"><div class=\"sk-estimator sk-toggleable\"><input class=\"sk-toggleable__control sk-hidden--visually\" id=\"sk-estimator-id-1\" type=\"checkbox\" checked><label for=\"sk-estimator-id-1\" class=\"sk-toggleable__label sk-toggleable__label-arrow\">MultinomialNB</label><div class=\"sk-toggleable__content\"><pre>MultinomialNB()</pre></div></div></div></div></div>"
      ],
      "text/plain": [
       "MultinomialNB()"
      ]
     },
     "execution_count": 10,
     "metadata": {},
     "output_type": "execute_result"
    }
   ],
   "source": [
    "#Train the Naïve Bayes Model\n",
    "model=MultinomialNB()\n",
    "model.fit(X_train_vectors, y_train)"
   ]
  },
  {
   "cell_type": "code",
   "execution_count": 11,
   "id": "344d584c-fa0c-48af-a9ab-5d23a5883ce9",
   "metadata": {},
   "outputs": [],
   "source": [
    "#Evaluate the Model\n",
    "y_pred=model.predict(X_test_vectors)"
   ]
  },
  {
   "cell_type": "code",
   "execution_count": 12,
   "id": "f941821f-aad1-4337-9596-450492ee512f",
   "metadata": {},
   "outputs": [
    {
     "name": "stdout",
     "output_type": "stream",
     "text": [
      "Accuracy: 0.82\n"
     ]
    }
   ],
   "source": [
    "#Accuracy\n",
    "accuracy = accuracy_score(y_test, y_pred)\n",
    "print(f\"Accuracy: {accuracy:.2f}\")"
   ]
  },
  {
   "cell_type": "code",
   "execution_count": 13,
   "id": "449e637d-ce9b-4815-823c-48aca9ea824a",
   "metadata": {},
   "outputs": [
    {
     "name": "stdout",
     "output_type": "stream",
     "text": [
      "Tweet: Flooding has displaced thousands in the area. | Predicted Label: Real\n",
      "Tweet: The weather today is sunny and bright. | Predicted Label: Fake\n"
     ]
    }
   ],
   "source": [
    "#Prediction Example\n",
    "example_tweets = [\n",
    "    \"Flooding has displaced thousands in the area.\",\n",
    "    \"The weather today is sunny and bright.\"\n",
    "]\n",
    "example_vectors=vectorizer.transform(example_tweets)\n",
    "predictions=model.predict(example_vectors)\n",
    "\n",
    "for tweet, prediction in zip(example_tweets, predictions):\n",
    "    print(f\"Tweet: {tweet} | Predicted Label: {'Real' if prediction == 1 else 'Fake'}\")"
   ]
  },
  {
   "cell_type": "code",
   "execution_count": null,
   "id": "983b959f-41d2-4633-8b08-23620c3a5c83",
   "metadata": {},
   "outputs": [],
   "source": []
  }
 ],
 "metadata": {
  "kernelspec": {
   "display_name": "Python 3 (ipykernel)",
   "language": "python",
   "name": "python3"
  },
  "language_info": {
   "codemirror_mode": {
    "name": "ipython",
    "version": 3
   },
   "file_extension": ".py",
   "mimetype": "text/x-python",
   "name": "python",
   "nbconvert_exporter": "python",
   "pygments_lexer": "ipython3",
   "version": "3.11.7"
  }
 },
 "nbformat": 4,
 "nbformat_minor": 5
}

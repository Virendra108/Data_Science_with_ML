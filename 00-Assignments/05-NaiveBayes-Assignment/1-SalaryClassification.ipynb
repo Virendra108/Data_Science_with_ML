{
 "cells": [
  {
   "cell_type": "code",
   "execution_count": 1,
   "id": "a34d9d31-63e6-4d0a-b7c0-1f35bc264239",
   "metadata": {},
   "outputs": [
    {
     "data": {
      "text/plain": [
       "\"\\nProblem Statement 1\\nPrepare a classification model using the Naive Bayes algorithm for the salary dataset. Train and test datasets are given separately.\\nUse both for model building.\\n\\n1.1 What is the business objective?\\nThe objective is to build a classification model using the Naive Bayes algorithm that can predict whether an individual's salary is greater than 50K or less than or equal to 50K based on various demographic and professional attributes. This model can be useful for HR analytics, demographic studies, and workforce planning.\\n\\n1.2 Are there any constraints?\\nThe dataset contains both categorical and numerical features requiring appropriate preprocessing.\\nImbalance in salary classes could impact the model's performance.\\nNo missing values are present, simplifying data preparation.\\n\""
      ]
     },
     "execution_count": 1,
     "metadata": {},
     "output_type": "execute_result"
    }
   ],
   "source": [
    "'''\n",
    "Problem Statement 1\n",
    "Prepare a classification model using the Naive Bayes algorithm for the salary dataset. Train and test datasets are given separately.\n",
    "Use both for model building.\n",
    "\n",
    "1.1 What is the business objective?\n",
    "The objective is to build a classification model using the Naive Bayes algorithm that can predict whether an individual's salary is greater than 50K or less than or equal to 50K based on various demographic and professional attributes. This model can be useful for HR analytics, demographic studies, and workforce planning.\n",
    "\n",
    "1.2 Are there any constraints?\n",
    "The dataset contains both categorical and numerical features requiring appropriate preprocessing.\n",
    "Imbalance in salary classes could impact the model's performance.\n",
    "No missing values are present, simplifying data preparation.\n",
    "'''"
   ]
  },
  {
   "cell_type": "code",
   "execution_count": null,
   "id": "f5d96738-6b7e-4667-84e1-05d631e2b884",
   "metadata": {},
   "outputs": [],
   "source": [
    "'''\n",
    "Feature   ,Data Type        Description                     ,Relevance\n",
    "age       ,Numeric,      Age of the individual            ,Highly Relevant\n",
    "workclass,Categorical,    Type of employment,                Relevant\n",
    "education,Categorical,  Highest level of education attained,   Relevant\n",
    "educationno,Numeric,Numeric code for education level,Relevant, Redundant\n",
    "maritalstatus,Categorical,Marital status of the individual    ,Relevant\n",
    "occupation,Categorical, Profession of the individual,          Relevant\n",
    "relationship,Categorical,Relationship within the family (e.g., husband, wife),Relevant\n",
    "race,Categorical,Race of the individual,                  Less Relevant\n",
    "sex,Categorical,Gender of the individual                     ,Relevant\n",
    "capitalgain,Numeric,Income from capital gains,            Highly Relevant\n",
    "capitalloss,Numeric,Losses from capital,                  Highly Relevant\n",
    "hoursperweek,Numeric,Average working hours per week,          Relevant\n",
    "native,Categorical,Country of origin,Less Relevant\n",
    "salary,Categorical,Target variable indicating income above or below $50K,   Target Variable\n",
    "'''"
   ]
  },
  {
   "cell_type": "code",
   "execution_count": 3,
   "id": "d2ce2716-bee7-4bd4-8a55-d607891c327a",
   "metadata": {},
   "outputs": [],
   "source": [
    "# Import required libraries\n",
    "import pandas as pd\n",
    "from sklearn.model_selection import train_test_split\n",
    "from sklearn.preprocessing import LabelEncoder\n",
    "from sklearn.naive_bayes import GaussianNB\n",
    "from sklearn.metrics import accuracy_score, confusion_matrix, classification_report\n",
    "import matplotlib.pyplot as plt\n",
    "import seaborn as sns"
   ]
  },
  {
   "cell_type": "code",
   "execution_count": 4,
   "id": "44c2aabf-ce06-4975-bc0d-b35be6d48e31",
   "metadata": {},
   "outputs": [],
   "source": [
    "# Load datasets\n",
    "train_data = pd.read_csv('SalaryData_Train.csv')\n",
    "test_data = pd.read_csv('SalaryData_Test.csv')"
   ]
  },
  {
   "cell_type": "code",
   "execution_count": 5,
   "id": "ecf2e755-bf8d-42c1-9e97-8a9c001ad955",
   "metadata": {},
   "outputs": [],
   "source": [
    "# Encode categorical variables\n",
    "encoder = LabelEncoder()\n",
    "categorical_cols = train_data.select_dtypes(include=['object']).columns\n",
    "for col in categorical_cols:\n",
    "    train_data[col] = encoder.fit_transform(train_data[col])\n",
    "    test_data[col] = encoder.transform(test_data[col])"
   ]
  },
  {
   "cell_type": "code",
   "execution_count": 6,
   "id": "3cc4781a-7a72-4cb7-a11d-788172140cd1",
   "metadata": {},
   "outputs": [],
   "source": [
    "# Separate features and target\n",
    "X_train = train_data.drop('Salary', axis=1)\n",
    "y_train = train_data['Salary']\n",
    "X_test = test_data.drop('Salary', axis=1)\n",
    "y_test = test_data['Salary']"
   ]
  },
  {
   "cell_type": "code",
   "execution_count": 7,
   "id": "725684fe-40f9-4261-83c7-e6a89592b60d",
   "metadata": {},
   "outputs": [
    {
     "data": {
      "text/html": [
       "<style>#sk-container-id-1 {color: black;background-color: white;}#sk-container-id-1 pre{padding: 0;}#sk-container-id-1 div.sk-toggleable {background-color: white;}#sk-container-id-1 label.sk-toggleable__label {cursor: pointer;display: block;width: 100%;margin-bottom: 0;padding: 0.3em;box-sizing: border-box;text-align: center;}#sk-container-id-1 label.sk-toggleable__label-arrow:before {content: \"▸\";float: left;margin-right: 0.25em;color: #696969;}#sk-container-id-1 label.sk-toggleable__label-arrow:hover:before {color: black;}#sk-container-id-1 div.sk-estimator:hover label.sk-toggleable__label-arrow:before {color: black;}#sk-container-id-1 div.sk-toggleable__content {max-height: 0;max-width: 0;overflow: hidden;text-align: left;background-color: #f0f8ff;}#sk-container-id-1 div.sk-toggleable__content pre {margin: 0.2em;color: black;border-radius: 0.25em;background-color: #f0f8ff;}#sk-container-id-1 input.sk-toggleable__control:checked~div.sk-toggleable__content {max-height: 200px;max-width: 100%;overflow: auto;}#sk-container-id-1 input.sk-toggleable__control:checked~label.sk-toggleable__label-arrow:before {content: \"▾\";}#sk-container-id-1 div.sk-estimator input.sk-toggleable__control:checked~label.sk-toggleable__label {background-color: #d4ebff;}#sk-container-id-1 div.sk-label input.sk-toggleable__control:checked~label.sk-toggleable__label {background-color: #d4ebff;}#sk-container-id-1 input.sk-hidden--visually {border: 0;clip: rect(1px 1px 1px 1px);clip: rect(1px, 1px, 1px, 1px);height: 1px;margin: -1px;overflow: hidden;padding: 0;position: absolute;width: 1px;}#sk-container-id-1 div.sk-estimator {font-family: monospace;background-color: #f0f8ff;border: 1px dotted black;border-radius: 0.25em;box-sizing: border-box;margin-bottom: 0.5em;}#sk-container-id-1 div.sk-estimator:hover {background-color: #d4ebff;}#sk-container-id-1 div.sk-parallel-item::after {content: \"\";width: 100%;border-bottom: 1px solid gray;flex-grow: 1;}#sk-container-id-1 div.sk-label:hover label.sk-toggleable__label {background-color: #d4ebff;}#sk-container-id-1 div.sk-serial::before {content: \"\";position: absolute;border-left: 1px solid gray;box-sizing: border-box;top: 0;bottom: 0;left: 50%;z-index: 0;}#sk-container-id-1 div.sk-serial {display: flex;flex-direction: column;align-items: center;background-color: white;padding-right: 0.2em;padding-left: 0.2em;position: relative;}#sk-container-id-1 div.sk-item {position: relative;z-index: 1;}#sk-container-id-1 div.sk-parallel {display: flex;align-items: stretch;justify-content: center;background-color: white;position: relative;}#sk-container-id-1 div.sk-item::before, #sk-container-id-1 div.sk-parallel-item::before {content: \"\";position: absolute;border-left: 1px solid gray;box-sizing: border-box;top: 0;bottom: 0;left: 50%;z-index: -1;}#sk-container-id-1 div.sk-parallel-item {display: flex;flex-direction: column;z-index: 1;position: relative;background-color: white;}#sk-container-id-1 div.sk-parallel-item:first-child::after {align-self: flex-end;width: 50%;}#sk-container-id-1 div.sk-parallel-item:last-child::after {align-self: flex-start;width: 50%;}#sk-container-id-1 div.sk-parallel-item:only-child::after {width: 0;}#sk-container-id-1 div.sk-dashed-wrapped {border: 1px dashed gray;margin: 0 0.4em 0.5em 0.4em;box-sizing: border-box;padding-bottom: 0.4em;background-color: white;}#sk-container-id-1 div.sk-label label {font-family: monospace;font-weight: bold;display: inline-block;line-height: 1.2em;}#sk-container-id-1 div.sk-label-container {text-align: center;}#sk-container-id-1 div.sk-container {/* jupyter's `normalize.less` sets `[hidden] { display: none; }` but bootstrap.min.css set `[hidden] { display: none !important; }` so we also need the `!important` here to be able to override the default hidden behavior on the sphinx rendered scikit-learn.org. See: https://github.com/scikit-learn/scikit-learn/issues/21755 */display: inline-block !important;position: relative;}#sk-container-id-1 div.sk-text-repr-fallback {display: none;}</style><div id=\"sk-container-id-1\" class=\"sk-top-container\"><div class=\"sk-text-repr-fallback\"><pre>GaussianNB()</pre><b>In a Jupyter environment, please rerun this cell to show the HTML representation or trust the notebook. <br />On GitHub, the HTML representation is unable to render, please try loading this page with nbviewer.org.</b></div><div class=\"sk-container\" hidden><div class=\"sk-item\"><div class=\"sk-estimator sk-toggleable\"><input class=\"sk-toggleable__control sk-hidden--visually\" id=\"sk-estimator-id-1\" type=\"checkbox\" checked><label for=\"sk-estimator-id-1\" class=\"sk-toggleable__label sk-toggleable__label-arrow\">GaussianNB</label><div class=\"sk-toggleable__content\"><pre>GaussianNB()</pre></div></div></div></div></div>"
      ],
      "text/plain": [
       "GaussianNB()"
      ]
     },
     "execution_count": 7,
     "metadata": {},
     "output_type": "execute_result"
    }
   ],
   "source": [
    "# Build and train the Naive Bayes model\n",
    "model = GaussianNB()\n",
    "model.fit(X_train, y_train)"
   ]
  },
  {
   "cell_type": "code",
   "execution_count": 8,
   "id": "bd3576e1-5fe4-44c9-9acf-980fc7647fea",
   "metadata": {},
   "outputs": [],
   "source": [
    "# Predictions\n",
    "y_pred = model.predict(X_test)"
   ]
  },
  {
   "cell_type": "code",
   "execution_count": 9,
   "id": "14cd3e86-b8a3-4bcf-b5c9-851980efc7bd",
   "metadata": {},
   "outputs": [],
   "source": [
    "# Evaluate the model\n",
    "accuracy = accuracy_score(y_test, y_pred)\n",
    "conf_matrix = confusion_matrix(y_test, y_pred)\n",
    "report = classification_report(y_test, y_pred)"
   ]
  },
  {
   "cell_type": "code",
   "execution_count": 10,
   "id": "1bc651b5-5543-42b3-bfae-22e0923030ca",
   "metadata": {},
   "outputs": [
    {
     "name": "stdout",
     "output_type": "stream",
     "text": [
      "Accuracy: 0.79\n",
      "Confusion Matrix:\n",
      "[[10759   601]\n",
      " [ 2491  1209]]\n",
      "Classification Report:\n",
      "              precision    recall  f1-score   support\n",
      "\n",
      "           0       0.81      0.95      0.87     11360\n",
      "           1       0.67      0.33      0.44      3700\n",
      "\n",
      "    accuracy                           0.79     15060\n",
      "   macro avg       0.74      0.64      0.66     15060\n",
      "weighted avg       0.78      0.79      0.77     15060\n",
      "\n"
     ]
    }
   ],
   "source": [
    "# Display results\n",
    "print(f'Accuracy: {accuracy:.2f}')\n",
    "print(f'Confusion Matrix:\\n{conf_matrix}')\n",
    "print(f'Classification Report:\\n{report}')"
   ]
  },
  {
   "cell_type": "code",
   "execution_count": 11,
   "id": "e7012f1f-f3a5-4f25-b4cc-92507e4f9803",
   "metadata": {},
   "outputs": [
    {
     "data": {
      "image/png": "[encoded data removed]",
      "text/plain": [
       "<Figure size 800x600 with 2 Axes>"
      ]
     },
     "metadata": {},
     "output_type": "display_data"
    }
   ],
   "source": [
    "# Visualize the confusion matrix\n",
    "plt.figure(figsize=(8, 6))\n",
    "sns.heatmap(conf_matrix, annot=True, fmt='d', cmap='Blues', xticklabels=['<=50K', '>50K'], yticklabels=['<=50K', '>50K'])\n",
    "plt.title('Confusion Matrix')\n",
    "plt.xlabel('Predicted')\n",
    "plt.ylabel('Actual')\n",
    "plt.show()"
   ]
  },
  {
   "cell_type": "code",
   "execution_count": 13,
   "id": "b1b28d40-32e3-4060-9595-3be014c9c477",
   "metadata": {},
   "outputs": [
    {
     "data": {
      "text/plain": [
       "'\\n1. The accuracy metric indicates the overall performance of the model.\\n2. The confusion matrix helps identify the number of correct and incorrect predictions for each class.\\n3. The classification report provides detailed metrics like precision, recall, and F1-score for both classes.\\n'"
      ]
     },
     "execution_count": 13,
     "metadata": {},
     "output_type": "execute_result"
    }
   ],
   "source": [
    "# Insights\n",
    "'''\n",
    "1. The accuracy metric indicates the overall performance of the model.\n",
    "2. The confusion matrix helps identify the number of correct and incorrect predictions for each class.\n",
    "3. The classification report provides detailed metrics like precision, recall, and F1-score for both classes.\n",
    "'''"
   ]
  },
  {
   "cell_type": "code",
   "execution_count": 14,
   "id": "ae766c34-52a9-4f41-ab74-6f95cfe9d4f8",
   "metadata": {},
   "outputs": [
    {
     "data": {
      "text/plain": [
       "'\\n1.This helps optimize HR efforts and focus on talent acquisition strategies that align with organizational goals.\\n2.Automating the prediction of salary classes reduces the time and manual effort needed for such analyses.\\n3.The model provides rapid and scalable insights, allowing HR teams to redirect their focus to strategic activities.\\n'"
      ]
     },
     "execution_count": 14,
     "metadata": {},
     "output_type": "execute_result"
    }
   ],
   "source": [
    "#Write about the benefits/impact of the solution - in what way does the business (client) benefit from the solution provided?\n",
    "\n",
    "'''\n",
    "1.This helps optimize HR efforts and focus on talent acquisition strategies that align with organizational goals.\n",
    "2.Automating the prediction of salary classes reduces the time and manual effort needed for such analyses.\n",
    "3.The model provides rapid and scalable insights, allowing HR teams to redirect their focus to strategic activities.\n",
    "'''"
   ]
  },
  {
   "cell_type": "code",
   "execution_count": null,
   "id": "629786e2-8ae4-4f9e-9a52-bdfd74836b2a",
   "metadata": {},
   "outputs": [],
   "source": []
  }
 ],
 "metadata": {
  "kernelspec": {
   "display_name": "Python 3 (ipykernel)",
   "language": "python",
   "name": "python3"
  },
  "language_info": {
   "codemirror_mode": {
    "name": "ipython",
    "version": 3
   },
   "file_extension": ".py",
   "mimetype": "text/x-python",
   "name": "python",
   "nbconvert_exporter": "python",
   "pygments_lexer": "ipython3",
   "version": "3.11.7"
  }
 },
 "nbformat": 4,
 "nbformat_minor": 5
}

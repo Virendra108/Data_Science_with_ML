{
 "cells": [
  {
   "cell_type": "code",
   "execution_count": 1,
   "id": "59400693-a0ba-42eb-aef3-e373fa3dbb00",
   "metadata": {},
   "outputs": [],
   "source": [
    "from bs4 import BeautifulSoup\n",
    "import requests"
   ]
  },
  {
   "cell_type": "code",
   "execution_count": 6,
   "id": "b3eb4dd5-0766-4c2f-89ab-be9935219f56",
   "metadata": {},
   "outputs": [
    {
     "name": "stdout",
     "output_type": "stream",
     "text": [
      "<Respponse 403>\n"
     ]
    }
   ],
   "source": [
    "url=\"https://www.imdb.com/title/tt0110912/reviews?sort=curated&dir=desc&ratingFilter=\"+str(i)\n",
    "page=requests.get(url)\n",
    "print(f\"<Respponse {page.status_code}>\")"
   ]
  },
  {
   "cell_type": "code",
   "execution_count": null,
   "id": "a4903580-ff77-4ee1-8188-ea1082ff8876",
   "metadata": {},
   "outputs": [],
   "source": []
  },
  {
   "cell_type": "code",
   "execution_count": null,
   "id": "3090a71d-803e-4172-9e14-a88ee395628c",
   "metadata": {},
   "outputs": [],
   "source": []
  },
  {
   "cell_type": "code",
   "execution_count": null,
   "id": "dd2e0212-f1c0-481e-ada6-97f4f3635aa0",
   "metadata": {},
   "outputs": [],
   "source": []
  }
 ],
 "metadata": {
  "kernelspec": {
   "display_name": "Python 3 (ipykernel)",
   "language": "python",
   "name": "python3"
  },
  "language_info": {
   "codemirror_mode": {
    "name": "ipython",
    "version": 3
   },
   "file_extension": ".py",
   "mimetype": "text/x-python",
   "name": "python",
   "nbconvert_exporter": "python",
   "pygments_lexer": "ipython3",
   "version": "3.11.7"
  }
 },
 "nbformat": 4,
 "nbformat_minor": 5
}

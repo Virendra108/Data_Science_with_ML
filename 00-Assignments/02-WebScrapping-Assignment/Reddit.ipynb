{
 "cells": [
  {
   "cell_type": "code",
   "execution_count": 6,
   "id": "51db0cfa-465c-47fa-b30f-3d09bf7b78fb",
   "metadata": {},
   "outputs": [],
   "source": [
    "#task3\n",
    "from bs4 import BeautifulSoup as bs\n",
    "import requests\n",
    "from textblob import TextBlob"
   ]
  },
  {
   "cell_type": "code",
   "execution_count": 16,
   "id": "3a8c5b2b-6673-4028-be8b-8ab338a15f0c",
   "metadata": {},
   "outputs": [],
   "source": [
    "link = 'https://www.reddit.com/'\n",
    "page = requests.get(link, headers={'User-agent': 'Mozilla/5.0'})\n",
    "soup = bs(page.content, 'html.parser')"
   ]
  },
  {
   "cell_type": "code",
   "execution_count": 17,
   "id": "8dc07512-9b12-49e9-8a0c-32e2f41ec4b2",
   "metadata": {},
   "outputs": [
    {
     "name": "stdout",
     "output_type": "stream",
     "text": [
      "\n",
      "          The Last of Us Season 2 - Official Trailer\n",
      "         \n",
      "          Rudy Giuliani disbarred in D.C., months after disbarment in New York\n",
      "         \n",
      "          From the World of John Wick: Ballerina | Official Trailer\n",
      "         \n",
      "          [Charania] After 15 NBA seasons, Derrick Rose is retiring from basketball. Rose, the youngest MVP in NBA history, tells @TheAthletic: \"The next chapter is about chasing my dreams and sharing my growth.\"\n",
      "         \n",
      "          Oasis International Tour - NME\n",
      "         \n",
      "          Space Marine 2 - Patch 3.0 (26/09/24)\n",
      "         \n",
      "              Welcome to r/Formula1, the best independent online Formula 1 community!\n",
      "             \n",
      "    Assistance for Mesothelioma Patients. Contact Us Today.\n",
      "   \n",
      "              Bigg Boss Marathi: S05\n",
      "The goal of this community is to provide an inclusive place for discussions about the show.\n",
      "             \n",
      "    This thread is created to discuss and share your opinions regarding today's episode.\n",
      "   \n",
      "    Any hateful, political, religious, racist, body shaming comments will be banned. No promotions.\n",
      "   \n",
      "    Please keep it respectful and civil.\n",
      "   \n",
      "    हा thread आजच्या भागाबाबत चर्चा करण्यासाठी आणि तुमची मते मांडण्यासाठी बनवला आहे.\n",
      "   \n",
      "    कोणत्याही द्वेषपूर्ण, राजकीय, धार्मिक, वर्णद्वेषी टिप्पण्यांवर बंदी घातली जाईल.\n",
      "   \n",
      "    Enjoy ❤\n",
      "   \n",
      "Join Our Discord\n",
      " \n",
      "              Casual Corner For Indians\n",
      "             \n",
      "Join Our Discord\n",
      "          \n"
     ]
    }
   ],
   "source": [
    "text = \" \".join(p.get_text() for p in soup.find_all('p'))\n",
    "print(text)"
   ]
  },
  {
   "cell_type": "code",
   "execution_count": 18,
   "id": "b7e3173d-8b29-46ee-86ae-8fe67a904a77",
   "metadata": {},
   "outputs": [],
   "source": [
    "blob = TextBlob(text)\n",
    "polarity = blob.sentiment.polarity\n",
    "subjectivity = blob.sentiment.subjectivity"
   ]
  },
  {
   "cell_type": "code",
   "execution_count": 19,
   "id": "77130140-cff1-4ebd-9d0c-e326c0046ce3",
   "metadata": {},
   "outputs": [
    {
     "name": "stdout",
     "output_type": "stream",
     "text": [
      "Polarity: 0.25259740259740265\n",
      "Subjectivity: 0.44020562770562766\n"
     ]
    }
   ],
   "source": [
    "print(f\"Polarity: {polarity}\")\n",
    "print(f\"Subjectivity: {subjectivity}\")"
   ]
  },
  {
   "cell_type": "code",
   "execution_count": null,
   "id": "36f8ae88-000f-4536-8f0d-884d8e339790",
   "metadata": {},
   "outputs": [],
   "source": []
  }
 ],
 "metadata": {
  "kernelspec": {
   "display_name": "Python 3 (ipykernel)",
   "language": "python",
   "name": "python3"
  },
  "language_info": {
   "codemirror_mode": {
    "name": "ipython",
    "version": 3
   },
   "file_extension": ".py",
   "mimetype": "text/x-python",
   "name": "python",
   "nbconvert_exporter": "python",
   "pygments_lexer": "ipython3",
   "version": "3.11.7"
  }
 },
 "nbformat": 4,
 "nbformat_minor": 5
}

{
 "cells": [
  {
   "cell_type": "code",
   "execution_count": 1,
   "id": "c5510823-f465-4040-9642-660e77b83677",
   "metadata": {},
   "outputs": [
    {
     "data": {
      "text/plain": [
       "\"\\nProblem Satatement:\\nThis dataset contains informaion of users in social netwrok.\\nThis social  netork has several buisenesss client which can pos ads on it.\\nOne of the client has a car company which was just launched a luxury SUV for a rediculious [price.\\nBuilld a bernoulli naivve bayes model using the following dataset and classify which of the user of the social netwoek are h=going to purchase \\nthis luxury SUV. I implies that was a purchase and 0 implies there wasn't a purchase.\\n\\n@autthor: Virendra Ghule\\n1. Buusiseness problem\\n1.1 What is thee buiseness objective ?\\n    1.1.1 This will help you bring those audience to your website who are interested in cars.\\n          and theere will be many of these whoo are planning tu buy a car in the near future.\\n    1.1.2 Communicatin g with your target audiance over social media is always a great way to build a good market reputation.\\n        Try responding to peoplesautomi=obile related queries on twitter and face book\\n        pages quickly to be there first choice whehn it comes to buiyi ng a car.\\n\\n1.2 Are there any constraints?\\n    not having a clear marketing or social media strategy may result in reduced benefits of your buiseness.\\n    Additionaly resources may be needed to manage your online presence.\\n    Social media is immediate and needs daily monitioring\\n    If you dont actively manage your social media presence,\\n    you may not see any real benefits.\\n\\n    There is arisk of unwanted or inaaappropriate behaviour on your site\\n    including bullying and harssement\\n\\n    Greater ex[possure online has the potential to attraacte risks.\\n    Risks can include negative feedback information, leaks and hacking.\\n\\n\\n\""
      ]
     },
     "execution_count": 1,
     "metadata": {},
     "output_type": "execute_result"
    }
   ],
   "source": [
    "'''\n",
    "Problem Satatement:\n",
    "This dataset contains informaion of users in social netwrok.\n",
    "This social  netork has several buisenesss client which can pos ads on it.\n",
    "One of the client has a car company which was just launched a luxury SUV for a rediculious [price.\n",
    "Builld a bernoulli naivve bayes model using the following dataset and classify which of the user of the social netwoek are h=going to purchase \n",
    "this luxury SUV. I implies that was a purchase and 0 implies there wasn't a purchase.\n",
    "\n",
    "@autthor: Virendra Ghule\n",
    "1. Buusiseness problem\n",
    "1.1 What is thee buiseness objective ?\n",
    "    1.1.1 This will help you bring those audience to your website who are interested in cars.\n",
    "          and theere will be many of these whoo are planning tu buy a car in the near future.\n",
    "    1.1.2 Communicatin g with your target audiance over social media is always a great way to build a good market reputation.\n",
    "        Try responding to peoplesautomi=obile related queries on twitter and face book\n",
    "        pages quickly to be there first choice whehn it comes to buiyi ng a car.\n",
    "\n",
    "1.2 Are there any constraints?\n",
    "    not having a clear marketing or social media strategy may result in reduced benefits of your buiseness.\n",
    "    Additionaly resources may be needed to manage your online presence.\n",
    "    Social media is immediate and needs daily monitioring\n",
    "    If you dont actively manage your social media presence,\n",
    "    you may not see any real benefits.\n",
    "\n",
    "    There is arisk of unwanted or inaaappropriate behaviour on your site\n",
    "    including bullying and harssement\n",
    "\n",
    "    Greater ex[possure online has the potential to attraacte risks.\n",
    "    Risks can include negative feedback information, leaks and hacking.\n",
    "\n",
    "\n",
    "'''"
   ]
  },
  {
   "cell_type": "code",
   "execution_count": 2,
   "id": "49322b08-ac2c-48e0-9a31-2ed46d2dd4de",
   "metadata": {},
   "outputs": [],
   "source": [
    "#work on each feature of the datase to create a data dictionaryy as \n",
    "#User ID: integer type which is not contributory\n",
    "#Gender: object type need to be label encoding\n",
    "#Age : Integer\n",
    "#EstimateddSalary:  Integer\n",
    "#purchased: Intger type\n"
   ]
  },
  {
   "cell_type": "code",
   "execution_count": 3,
   "id": "ba2307cd-74b5-4f90-a195-db5477a8a80f",
   "metadata": {},
   "outputs": [],
   "source": [
    "import pandas as pd\n",
    "import numpy as np\n",
    "import matplotlib.pyplot as plt"
   ]
  },
  {
   "cell_type": "code",
   "execution_count": 5,
   "id": "f8879899-461a-4d01-860b-bcc79382872e",
   "metadata": {},
   "outputs": [],
   "source": [
    "#LET US FIRST IMPORT THE DATAASET\n",
    "car=pd.read_csv(\"NB_Car_Ad.csv\")"
   ]
  },
  {
   "cell_type": "code",
   "execution_count": 6,
   "id": "e7de8598-eeb5-4ca9-830a-6547b8cc336d",
   "metadata": {},
   "outputs": [
    {
     "data": {
      "text/html": [
       "<div>\n",
       "<style scoped>\n",
       "    .dataframe tbody tr th:only-of-type {\n",
       "        vertical-align: middle;\n",
       "    }\n",
       "\n",
       "    .dataframe tbody tr th {\n",
       "        vertical-align: top;\n",
       "    }\n",
       "\n",
       "    .dataframe thead th {\n",
       "        text-align: right;\n",
       "    }\n",
       "</style>\n",
       "<table border=\"1\" class=\"dataframe\">\n",
       "  <thead>\n",
       "    <tr style=\"text-align: right;\">\n",
       "      <th></th>\n",
       "      <th>User ID</th>\n",
       "      <th>Gender</th>\n",
       "      <th>Age</th>\n",
       "      <th>EstimatedSalary</th>\n",
       "      <th>Purchased</th>\n",
       "    </tr>\n",
       "  </thead>\n",
       "  <tbody>\n",
       "    <tr>\n",
       "      <th>0</th>\n",
       "      <td>15624510</td>\n",
       "      <td>Male</td>\n",
       "      <td>19</td>\n",
       "      <td>19000</td>\n",
       "      <td>0</td>\n",
       "    </tr>\n",
       "    <tr>\n",
       "      <th>1</th>\n",
       "      <td>15810944</td>\n",
       "      <td>Male</td>\n",
       "      <td>35</td>\n",
       "      <td>20000</td>\n",
       "      <td>0</td>\n",
       "    </tr>\n",
       "    <tr>\n",
       "      <th>2</th>\n",
       "      <td>15668575</td>\n",
       "      <td>Female</td>\n",
       "      <td>26</td>\n",
       "      <td>43000</td>\n",
       "      <td>0</td>\n",
       "    </tr>\n",
       "    <tr>\n",
       "      <th>3</th>\n",
       "      <td>15603246</td>\n",
       "      <td>Female</td>\n",
       "      <td>27</td>\n",
       "      <td>57000</td>\n",
       "      <td>0</td>\n",
       "    </tr>\n",
       "    <tr>\n",
       "      <th>4</th>\n",
       "      <td>15804002</td>\n",
       "      <td>Male</td>\n",
       "      <td>19</td>\n",
       "      <td>76000</td>\n",
       "      <td>0</td>\n",
       "    </tr>\n",
       "  </tbody>\n",
       "</table>\n",
       "</div>"
      ],
      "text/plain": [
       "    User ID  Gender  Age  EstimatedSalary  Purchased\n",
       "0  15624510    Male   19            19000          0\n",
       "1  15810944    Male   35            20000          0\n",
       "2  15668575  Female   26            43000          0\n",
       "3  15603246  Female   27            57000          0\n",
       "4  15804002    Male   19            76000          0"
      ]
     },
     "execution_count": 6,
     "metadata": {},
     "output_type": "execute_result"
    }
   ],
   "source": [
    "car.head()"
   ]
  },
  {
   "cell_type": "code",
   "execution_count": 7,
   "id": "d4f22ede-96dd-41bb-baa6-fe2b9661367d",
   "metadata": {},
   "outputs": [
    {
     "data": {
      "text/html": [
       "<div>\n",
       "<style scoped>\n",
       "    .dataframe tbody tr th:only-of-type {\n",
       "        vertical-align: middle;\n",
       "    }\n",
       "\n",
       "    .dataframe tbody tr th {\n",
       "        vertical-align: top;\n",
       "    }\n",
       "\n",
       "    .dataframe thead th {\n",
       "        text-align: right;\n",
       "    }\n",
       "</style>\n",
       "<table border=\"1\" class=\"dataframe\">\n",
       "  <thead>\n",
       "    <tr style=\"text-align: right;\">\n",
       "      <th></th>\n",
       "      <th>User ID</th>\n",
       "      <th>Age</th>\n",
       "      <th>EstimatedSalary</th>\n",
       "      <th>Purchased</th>\n",
       "    </tr>\n",
       "  </thead>\n",
       "  <tbody>\n",
       "    <tr>\n",
       "      <th>count</th>\n",
       "      <td>4.000000e+02</td>\n",
       "      <td>400.000000</td>\n",
       "      <td>400.000000</td>\n",
       "      <td>400.000000</td>\n",
       "    </tr>\n",
       "    <tr>\n",
       "      <th>mean</th>\n",
       "      <td>1.569154e+07</td>\n",
       "      <td>37.655000</td>\n",
       "      <td>69742.500000</td>\n",
       "      <td>0.357500</td>\n",
       "    </tr>\n",
       "    <tr>\n",
       "      <th>std</th>\n",
       "      <td>7.165832e+04</td>\n",
       "      <td>10.482877</td>\n",
       "      <td>34096.960282</td>\n",
       "      <td>0.479864</td>\n",
       "    </tr>\n",
       "    <tr>\n",
       "      <th>min</th>\n",
       "      <td>1.556669e+07</td>\n",
       "      <td>18.000000</td>\n",
       "      <td>15000.000000</td>\n",
       "      <td>0.000000</td>\n",
       "    </tr>\n",
       "    <tr>\n",
       "      <th>25%</th>\n",
       "      <td>1.562676e+07</td>\n",
       "      <td>29.750000</td>\n",
       "      <td>43000.000000</td>\n",
       "      <td>0.000000</td>\n",
       "    </tr>\n",
       "    <tr>\n",
       "      <th>50%</th>\n",
       "      <td>1.569434e+07</td>\n",
       "      <td>37.000000</td>\n",
       "      <td>70000.000000</td>\n",
       "      <td>0.000000</td>\n",
       "    </tr>\n",
       "    <tr>\n",
       "      <th>75%</th>\n",
       "      <td>1.575036e+07</td>\n",
       "      <td>46.000000</td>\n",
       "      <td>88000.000000</td>\n",
       "      <td>1.000000</td>\n",
       "    </tr>\n",
       "    <tr>\n",
       "      <th>max</th>\n",
       "      <td>1.581524e+07</td>\n",
       "      <td>60.000000</td>\n",
       "      <td>150000.000000</td>\n",
       "      <td>1.000000</td>\n",
       "    </tr>\n",
       "  </tbody>\n",
       "</table>\n",
       "</div>"
      ],
      "text/plain": [
       "            User ID         Age  EstimatedSalary   Purchased\n",
       "count  4.000000e+02  400.000000       400.000000  400.000000\n",
       "mean   1.569154e+07   37.655000     69742.500000    0.357500\n",
       "std    7.165832e+04   10.482877     34096.960282    0.479864\n",
       "min    1.556669e+07   18.000000     15000.000000    0.000000\n",
       "25%    1.562676e+07   29.750000     43000.000000    0.000000\n",
       "50%    1.569434e+07   37.000000     70000.000000    0.000000\n",
       "75%    1.575036e+07   46.000000     88000.000000    1.000000\n",
       "max    1.581524e+07   60.000000    150000.000000    1.000000"
      ]
     },
     "execution_count": 7,
     "metadata": {},
     "output_type": "execute_result"
    }
   ],
   "source": [
    "#Exploratory Data analyisis\n",
    "car.columns\n",
    "car.dtypes\n",
    "car.describe()\n",
    "\n",
    "#min age of employee is 18 yrs\n",
    "#ma age of employee is 60 yrs"
   ]
  },
  {
   "cell_type": "code",
   "execution_count": 8,
   "id": "bd29a6ab-59a6-4e73-b9ec-6b629a051568",
   "metadata": {},
   "outputs": [],
   "source": [
    "#average age is 37\n",
    "#min salary is 15000\n",
    "#max salary is 1,50,000\n",
    "#average salary is 69742"
   ]
  },
  {
   "cell_type": "code",
   "execution_count": 9,
   "id": "5e274ce0-acc5-4c0a-8c59-59e21118daf6",
   "metadata": {},
   "outputs": [],
   "source": [
    "car.isna().sum()\n",
    "car.drop([\"User ID\"],axis=1,inplace=True)"
   ]
  },
  {
   "cell_type": "code",
   "execution_count": 10,
   "id": "a887ad8a-9503-4bf2-b45e-f621b5d750b8",
   "metadata": {},
   "outputs": [
    {
     "data": {
      "text/plain": [
       "(array([28., 37., 46., 35., 77., 65., 35., 31., 18., 28.]),\n",
       " array([18. , 22.2, 26.4, 30.6, 34.8, 39. , 43.2, 47.4, 51.6, 55.8, 60. ]),\n",
       " <BarContainer object of 10 artists>)"
      ]
     },
     "execution_count": 10,
     "metadata": {},
     "output_type": "execute_result"
    },
    {
     "data": {
      "image/png": "[encoded data removed]",
      "text/plain": [
       "<Figure size 640x480 with 1 Axes>"
      ]
     },
     "metadata": {},
     "output_type": "display_data"
    }
   ],
   "source": [
    "car.dtypes\n",
    "plt.hist(car.Age)"
   ]
  },
  {
   "cell_type": "code",
   "execution_count": 11,
   "id": "00114dbd-1137-43e3-8dcc-f010be621be0",
   "metadata": {},
   "outputs": [
    {
     "data": {
      "text/plain": [
       "(array([51., 39., 58., 50., 82., 40., 22., 19., 17., 22.]),\n",
       " array([ 15000.,  28500.,  42000.,  55500.,  69000.,  82500.,  96000.,\n",
       "        109500., 123000., 136500., 150000.]),\n",
       " <BarContainer object of 10 artists>)"
      ]
     },
     "execution_count": 11,
     "metadata": {},
     "output_type": "execute_result"
    },
    {
     "data": {
      "image/png": "[encoded data removed]",
      "text/plain": [
       "<Figure size 640x480 with 1 Axes>"
      ]
     },
     "metadata": {},
     "output_type": "display_data"
    }
   ],
   "source": [
    "#age is   normally distributed\n",
    "\n",
    "plt.hist(car.EstimatedSalary)"
   ]
  },
  {
   "cell_type": "code",
   "execution_count": 12,
   "id": "1c41e5eb-3104-4526-8bc2-20ba88dc9ddb",
   "metadata": {},
   "outputs": [],
   "source": [
    "#Data is normally distributed but right skewed"
   ]
  },
  {
   "cell_type": "code",
   "execution_count": 13,
   "id": "c92a38da-8083-4bc4-8d7a-77f31253f032",
   "metadata": {},
   "outputs": [],
   "source": [
    "#Data Pre-processing \n",
    "#1.1 Data cleaning, Feature Enginnering, etc.\n",
    "car.dtypes\n",
    "\n",
    "#The column gender is of object type\n",
    "#Let us apply label encoder to input feature\n",
    "\n",
    "from sklearn import preprocessing\n",
    "label_encoder=preprocessing.LabelEncoder()"
   ]
  },
  {
   "cell_type": "code",
   "execution_count": 14,
   "id": "3ee71dee-3cfe-4dea-b6a3-c755b67fa965",
   "metadata": {},
   "outputs": [],
   "source": [
    "#this is moodel of label_encoder which is applied to all the object types\n",
    "car['Gender']=label_encoder.fit_transform(car['Gender'])"
   ]
  },
  {
   "cell_type": "code",
   "execution_count": 15,
   "id": "302a6e3b-6862-4242-8173-27cd5b542b76",
   "metadata": {},
   "outputs": [
    {
     "data": {
      "text/html": [
       "<div>\n",
       "<style scoped>\n",
       "    .dataframe tbody tr th:only-of-type {\n",
       "        vertical-align: middle;\n",
       "    }\n",
       "\n",
       "    .dataframe tbody tr th {\n",
       "        vertical-align: top;\n",
       "    }\n",
       "\n",
       "    .dataframe thead th {\n",
       "        text-align: right;\n",
       "    }\n",
       "</style>\n",
       "<table border=\"1\" class=\"dataframe\">\n",
       "  <thead>\n",
       "    <tr style=\"text-align: right;\">\n",
       "      <th></th>\n",
       "      <th>Gender</th>\n",
       "      <th>Age</th>\n",
       "      <th>EstimatedSalary</th>\n",
       "      <th>Purchased</th>\n",
       "    </tr>\n",
       "  </thead>\n",
       "  <tbody>\n",
       "    <tr>\n",
       "      <th>count</th>\n",
       "      <td>400.000000</td>\n",
       "      <td>400.000000</td>\n",
       "      <td>400.000000</td>\n",
       "      <td>400.000000</td>\n",
       "    </tr>\n",
       "    <tr>\n",
       "      <th>mean</th>\n",
       "      <td>0.490000</td>\n",
       "      <td>0.467976</td>\n",
       "      <td>0.405500</td>\n",
       "      <td>0.357500</td>\n",
       "    </tr>\n",
       "    <tr>\n",
       "      <th>std</th>\n",
       "      <td>0.500526</td>\n",
       "      <td>0.249592</td>\n",
       "      <td>0.252570</td>\n",
       "      <td>0.479864</td>\n",
       "    </tr>\n",
       "    <tr>\n",
       "      <th>min</th>\n",
       "      <td>0.000000</td>\n",
       "      <td>0.000000</td>\n",
       "      <td>0.000000</td>\n",
       "      <td>0.000000</td>\n",
       "    </tr>\n",
       "    <tr>\n",
       "      <th>25%</th>\n",
       "      <td>0.000000</td>\n",
       "      <td>0.279762</td>\n",
       "      <td>0.207407</td>\n",
       "      <td>0.000000</td>\n",
       "    </tr>\n",
       "    <tr>\n",
       "      <th>50%</th>\n",
       "      <td>0.000000</td>\n",
       "      <td>0.452381</td>\n",
       "      <td>0.407407</td>\n",
       "      <td>0.000000</td>\n",
       "    </tr>\n",
       "    <tr>\n",
       "      <th>75%</th>\n",
       "      <td>1.000000</td>\n",
       "      <td>0.666667</td>\n",
       "      <td>0.540741</td>\n",
       "      <td>1.000000</td>\n",
       "    </tr>\n",
       "    <tr>\n",
       "      <th>max</th>\n",
       "      <td>1.000000</td>\n",
       "      <td>1.000000</td>\n",
       "      <td>1.000000</td>\n",
       "      <td>1.000000</td>\n",
       "    </tr>\n",
       "  </tbody>\n",
       "</table>\n",
       "</div>"
      ],
      "text/plain": [
       "           Gender         Age  EstimatedSalary   Purchased\n",
       "count  400.000000  400.000000       400.000000  400.000000\n",
       "mean     0.490000    0.467976         0.405500    0.357500\n",
       "std      0.500526    0.249592         0.252570    0.479864\n",
       "min      0.000000    0.000000         0.000000    0.000000\n",
       "25%      0.000000    0.279762         0.207407    0.000000\n",
       "50%      0.000000    0.452381         0.407407    0.000000\n",
       "75%      1.000000    0.666667         0.540741    1.000000\n",
       "max      1.000000    1.000000         1.000000    1.000000"
      ]
     },
     "execution_count": 15,
     "metadata": {},
     "output_type": "execute_result"
    }
   ],
   "source": [
    "#now let us apply normalization function\n",
    "def norm_funct(i):\n",
    "    x=(i-i.min())/(i.max()-i.min())\n",
    "    return x\n",
    "\n",
    "car_norm=norm_funct(car)\n",
    "car_norm.describe()"
   ]
  },
  {
   "cell_type": "code",
   "execution_count": 16,
   "id": "ebd1179b-f36a-478d-b4c5-594c1d1d37c1",
   "metadata": {},
   "outputs": [],
   "source": [
    "#Now let us designate train data And Test data\n",
    "\n",
    "from sklearn.model_selection import train_test_split\n",
    "car_train,car_test=train_test_split(car_norm,test_size=0.2)"
   ]
  },
  {
   "cell_type": "code",
   "execution_count": 17,
   "id": "5e3cddc7-bcab-48e5-9679-42977a80d2eb",
   "metadata": {},
   "outputs": [],
   "source": [
    "col_names1=list(car_train.columns)\n",
    "train_X=car_train[col_names1[0:2]]\n",
    "train_y=car_train[col_names1[3]]\n",
    "col_names2=list(car_train.columns)\n",
    "test_X=car_test[col_names2[0:2]]\n",
    "test_y=car_test[col_names2[3]]"
   ]
  },
  {
   "cell_type": "code",
   "execution_count": 18,
   "id": "200ffa3b-4206-4831-b6d1-9b973f7bc62c",
   "metadata": {},
   "outputs": [
    {
     "data": {
      "text/plain": [
       "0.6375"
      ]
     },
     "execution_count": 18,
     "metadata": {},
     "output_type": "execute_result"
    }
   ],
   "source": [
    "#model building\n",
    "#build the model on the scaled data\n",
    "#build a naive bayes model\n",
    "#like MultinomialNB, this classifier is suitable for discrete data.\n",
    "#Bernoulli Naive Bayes is designed for binary/boolean features\n",
    "from sklearn.naive_bayes import BernoulliNB as BB\n",
    "classifier_bb=BB()\n",
    "\n",
    "classifier_bb.fit(train_X,train_y)\n",
    "#Let us now evaluate on test data\n",
    "test_pred_b=classifier_bb.predict(test_X)\n",
    "#Accuracy of the predictions\n",
    "accuracy_test_b=np.mean(test_pred_b==test_y)\n",
    "accuracy_test_b"
   ]
  },
  {
   "cell_type": "code",
   "execution_count": null,
   "id": "f43e4192-b243-454a-aa39-b06579f1e666",
   "metadata": {},
   "outputs": [],
   "source": [
    "#let us now check confusion  matrix\n",
    "from sklearn.metrics import accuracy_score\n"
   ]
  }
 ],
 "metadata": {
  "kernelspec": {
   "display_name": "Python 3 (ipykernel)",
   "language": "python",
   "name": "python3"
  },
  "language_info": {
   "codemirror_mode": {
    "name": "ipython",
    "version": 3
   },
   "file_extension": ".py",
   "mimetype": "text/x-python",
   "name": "python",
   "nbconvert_exporter": "python",
   "pygments_lexer": "ipython3",
   "version": "3.11.7"
  }
 },
 "nbformat": 4,
 "nbformat_minor": 5
}

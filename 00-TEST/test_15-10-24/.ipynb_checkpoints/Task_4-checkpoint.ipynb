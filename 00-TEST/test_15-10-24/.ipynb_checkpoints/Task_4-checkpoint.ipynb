{
 "cells": [
  {
   "cell_type": "code",
   "execution_count": null,
   "id": "60f8944b-f2a4-4fc3-8fa5-04b1a64d23bb",
   "metadata": {},
   "outputs": [],
   "source": [
    "'''4. Using the mlxtend library, write a Python program to generate association\n",
    "rules from a dataset of transactions. The program should allow setting a\n",
    "minimum support threshold and minimum confidence threshold for rule\n",
    "generation.\n",
    "transactions = [['Tea', 'Bun'], ['Tea', 'Bread'], ['Bread', 'Bun'], ['Tea', 'Bun',\n",
    "'Bread']]\n",
    "'''"
   ]
  },
  {
   "cell_type": "code",
   "execution_count": 5,
   "id": "b50d2e51-ca77-4495-b65c-d8fa31328152",
   "metadata": {},
   "outputs": [],
   "source": [
    "from mlxtend.preprocessing import TransactionEncoder\n",
    "from mlxtend.frequent_patterns import apriori, association_rules\n",
    "import pandas as pd"
   ]
  },
  {
   "cell_type": "code",
   "execution_count": 6,
   "id": "02e8d915-f0e5-4190-b0d9-e0d692d8186c",
   "metadata": {},
   "outputs": [],
   "source": [
    "transactions = [['Tea', 'Bun'], ['Tea', 'Bread'], ['Bread', 'Bun'], ['Tea', 'Bun', 'Bread']]"
   ]
  },
  {
   "cell_type": "code",
   "execution_count": 8,
   "id": "fa57318f-8084-4ce2-b4aa-0cc81893a471",
   "metadata": {},
   "outputs": [],
   "source": [
    "#convert the transactions in data suitable for apriori\n",
    "df=pd.DataFrame(transactions)\n",
    "te=TransactionEncoder()\n",
    "transformed_data=te.fit(transactions).transform(transactions)\n",
    "df=pd.DataFrame(transformed_data,columns=te.columns_)\n"
   ]
  },
  {
   "cell_type": "code",
   "execution_count": 9,
   "id": "68736c25-c5d8-44e8-a523-1f84c7fdd5c0",
   "metadata": {},
   "outputs": [],
   "source": [
    "#generate frequent itemsets\n",
    "frequent_itemsets=apriori(df,min_support=0.5,use_colnames=True)"
   ]
  },
  {
   "cell_type": "code",
   "execution_count": 10,
   "id": "453785bc-ab3e-467d-9692-790430c84928",
   "metadata": {},
   "outputs": [],
   "source": [
    "#calculate association rules by confidence\n",
    "rules=association_rules(frequent_itemsets,metric='confidence',min_threshold=0.5)"
   ]
  },
  {
   "cell_type": "code",
   "execution_count": 11,
   "id": "77eb851e-8816-478c-9dcc-4076367d7cf8",
   "metadata": {},
   "outputs": [
    {
     "data": {
      "text/html": [
       "<div>\n",
       "<style scoped>\n",
       "    .dataframe tbody tr th:only-of-type {\n",
       "        vertical-align: middle;\n",
       "    }\n",
       "\n",
       "    .dataframe tbody tr th {\n",
       "        vertical-align: top;\n",
       "    }\n",
       "\n",
       "    .dataframe thead th {\n",
       "        text-align: right;\n",
       "    }\n",
       "</style>\n",
       "<table border=\"1\" class=\"dataframe\">\n",
       "  <thead>\n",
       "    <tr style=\"text-align: right;\">\n",
       "      <th></th>\n",
       "      <th>antecedents</th>\n",
       "      <th>consequents</th>\n",
       "      <th>antecedent support</th>\n",
       "      <th>consequent support</th>\n",
       "      <th>support</th>\n",
       "      <th>confidence</th>\n",
       "      <th>lift</th>\n",
       "      <th>leverage</th>\n",
       "      <th>conviction</th>\n",
       "      <th>zhangs_metric</th>\n",
       "    </tr>\n",
       "  </thead>\n",
       "  <tbody>\n",
       "    <tr>\n",
       "      <th>0</th>\n",
       "      <td>(Bun)</td>\n",
       "      <td>(Bread)</td>\n",
       "      <td>0.75</td>\n",
       "      <td>0.75</td>\n",
       "      <td>0.5</td>\n",
       "      <td>0.666667</td>\n",
       "      <td>0.888889</td>\n",
       "      <td>-0.0625</td>\n",
       "      <td>0.75</td>\n",
       "      <td>-0.333333</td>\n",
       "    </tr>\n",
       "    <tr>\n",
       "      <th>1</th>\n",
       "      <td>(Bread)</td>\n",
       "      <td>(Bun)</td>\n",
       "      <td>0.75</td>\n",
       "      <td>0.75</td>\n",
       "      <td>0.5</td>\n",
       "      <td>0.666667</td>\n",
       "      <td>0.888889</td>\n",
       "      <td>-0.0625</td>\n",
       "      <td>0.75</td>\n",
       "      <td>-0.333333</td>\n",
       "    </tr>\n",
       "    <tr>\n",
       "      <th>2</th>\n",
       "      <td>(Bread)</td>\n",
       "      <td>(Tea)</td>\n",
       "      <td>0.75</td>\n",
       "      <td>0.75</td>\n",
       "      <td>0.5</td>\n",
       "      <td>0.666667</td>\n",
       "      <td>0.888889</td>\n",
       "      <td>-0.0625</td>\n",
       "      <td>0.75</td>\n",
       "      <td>-0.333333</td>\n",
       "    </tr>\n",
       "    <tr>\n",
       "      <th>3</th>\n",
       "      <td>(Tea)</td>\n",
       "      <td>(Bread)</td>\n",
       "      <td>0.75</td>\n",
       "      <td>0.75</td>\n",
       "      <td>0.5</td>\n",
       "      <td>0.666667</td>\n",
       "      <td>0.888889</td>\n",
       "      <td>-0.0625</td>\n",
       "      <td>0.75</td>\n",
       "      <td>-0.333333</td>\n",
       "    </tr>\n",
       "    <tr>\n",
       "      <th>4</th>\n",
       "      <td>(Bun)</td>\n",
       "      <td>(Tea)</td>\n",
       "      <td>0.75</td>\n",
       "      <td>0.75</td>\n",
       "      <td>0.5</td>\n",
       "      <td>0.666667</td>\n",
       "      <td>0.888889</td>\n",
       "      <td>-0.0625</td>\n",
       "      <td>0.75</td>\n",
       "      <td>-0.333333</td>\n",
       "    </tr>\n",
       "    <tr>\n",
       "      <th>5</th>\n",
       "      <td>(Tea)</td>\n",
       "      <td>(Bun)</td>\n",
       "      <td>0.75</td>\n",
       "      <td>0.75</td>\n",
       "      <td>0.5</td>\n",
       "      <td>0.666667</td>\n",
       "      <td>0.888889</td>\n",
       "      <td>-0.0625</td>\n",
       "      <td>0.75</td>\n",
       "      <td>-0.333333</td>\n",
       "    </tr>\n",
       "  </tbody>\n",
       "</table>\n",
       "</div>"
      ],
      "text/plain": [
       "  antecedents consequents  antecedent support  consequent support  support  \\\n",
       "0       (Bun)     (Bread)                0.75                0.75      0.5   \n",
       "1     (Bread)       (Bun)                0.75                0.75      0.5   \n",
       "2     (Bread)       (Tea)                0.75                0.75      0.5   \n",
       "3       (Tea)     (Bread)                0.75                0.75      0.5   \n",
       "4       (Bun)       (Tea)                0.75                0.75      0.5   \n",
       "5       (Tea)       (Bun)                0.75                0.75      0.5   \n",
       "\n",
       "   confidence      lift  leverage  conviction  zhangs_metric  \n",
       "0    0.666667  0.888889   -0.0625        0.75      -0.333333  \n",
       "1    0.666667  0.888889   -0.0625        0.75      -0.333333  \n",
       "2    0.666667  0.888889   -0.0625        0.75      -0.333333  \n",
       "3    0.666667  0.888889   -0.0625        0.75      -0.333333  \n",
       "4    0.666667  0.888889   -0.0625        0.75      -0.333333  \n",
       "5    0.666667  0.888889   -0.0625        0.75      -0.333333  "
      ]
     },
     "execution_count": 11,
     "metadata": {},
     "output_type": "execute_result"
    }
   ],
   "source": [
    "rules"
   ]
  },
  {
   "cell_type": "code",
   "execution_count": null,
   "id": "622e9730-31cd-4752-919e-42fc380c5386",
   "metadata": {},
   "outputs": [],
   "source": []
  }
 ],
 "metadata": {
  "kernelspec": {
   "display_name": "Python 3 (ipykernel)",
   "language": "python",
   "name": "python3"
  },
  "language_info": {
   "codemirror_mode": {
    "name": "ipython",
    "version": 3
   },
   "file_extension": ".py",
   "mimetype": "text/x-python",
   "name": "python",
   "nbconvert_exporter": "python",
   "pygments_lexer": "ipython3",
   "version": "3.11.7"
  }
 },
 "nbformat": 4,
 "nbformat_minor": 5
}

{
 "cells": [
  {
   "cell_type": "code",
   "execution_count": 1,
   "id": "ab07a305-bf09-4466-a469-b37bbd7d3645",
   "metadata": {},
   "outputs": [
    {
     "data": {
      "text/plain": [
       "'3. Build an item-based collaborative filtering recommendation engine.\\nInstead of recommending items based on similar users, recommend items\\nthat are similar to those that a user has already interacted with.\\nSteps:\\n\\uf0b7 Preprocess the Data: Create a user-item matrix where rows are users and columns are\\nitems (movies).\\n\\uf0b7 Compute Item Similarity: Calculate similarity between items based on user\\ninteractions.\\n\\uf0b7 Recommend Items: For a given user, recommend items that are similar to those the\\nuser has already rated highly'"
      ]
     },
     "execution_count": 1,
     "metadata": {},
     "output_type": "execute_result"
    }
   ],
   "source": [
    "'''3. Build an item-based collaborative filtering recommendation engine.\n",
    "Instead of recommending items based on similar users, recommend items\n",
    "that are similar to those that a user has already interacted with.\n",
    "Steps:\n",
    " Preprocess the Data: Create a user-item matrix where rows are users and columns are\n",
    "items (movies).\n",
    " Compute Item Similarity: Calculate similarity between items based on user\n",
    "interactions.\n",
    " Recommend Items: For a given user, recommend items that are similar to those the\n",
    "user has already rated highly'''"
   ]
  },
  {
   "cell_type": "code",
   "execution_count": null,
   "id": "538094c5-53d1-4644-876c-d3aaa4237a8f",
   "metadata": {},
   "outputs": [],
   "source": []
  }
 ],
 "metadata": {
  "kernelspec": {
   "display_name": "Python 3 (ipykernel)",
   "language": "python",
   "name": "python3"
  },
  "language_info": {
   "codemirror_mode": {
    "name": "ipython",
    "version": 3
   },
   "file_extension": ".py",
   "mimetype": "text/x-python",
   "name": "python",
   "nbconvert_exporter": "python",
   "pygments_lexer": "ipython3",
   "version": "3.11.7"
  }
 },
 "nbformat": 4,
 "nbformat_minor": 5
}

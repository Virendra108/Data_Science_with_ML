{
 "cells": [
  {
   "cell_type": "code",
   "execution_count": 1,
   "id": "3b525e76-d5c0-4b3b-897e-3efe7bfefba6",
   "metadata": {},
   "outputs": [],
   "source": [
    "from mlxtend.frequent_patterns import fpgrowth\n",
    "from mlxtend.preprocessing import TransactionEncoder\n",
    "import pandas as pd\n"
   ]
  },
  {
   "cell_type": "code",
   "execution_count": 2,
   "id": "3fefec22-3db7-4509-b2a3-1a681f557cbc",
   "metadata": {},
   "outputs": [],
   "source": [
    "transactions=[['Apple','Banana'],['Apple','Orange'],['Banana','Orange'],['Apple','Banana','Orange']]"
   ]
  },
  {
   "cell_type": "code",
   "execution_count": 4,
   "id": "1129870b-8bda-4418-a741-73a54a379031",
   "metadata": {},
   "outputs": [],
   "source": [
    "#Transaction Encoding\n",
    "te=TransactionEncoder()\n",
    "transformed_data=te.fit(transactions).transform(transactions)\n",
    "df=pd.DataFrame(transformed_data, columns=te.columns_)\n"
   ]
  },
  {
   "cell_type": "code",
   "execution_count": 5,
   "id": "e532cd86-ca36-4299-a64a-d94b03fc5f4b",
   "metadata": {},
   "outputs": [
    {
     "name": "stdout",
     "output_type": "stream",
     "text": [
      "   support          itemsets\n",
      "0     0.75          (Banana)\n",
      "1     0.75           (Apple)\n",
      "2     0.75          (Orange)\n",
      "3     0.50  (Banana, Orange)\n",
      "4     0.50   (Apple, Banana)\n",
      "5     0.50   (Apple, Orange)\n"
     ]
    }
   ],
   "source": [
    "#FP-Growth Algorithms\n",
    "frequent_itemsets=fpgrowth(df,min_support=0.5, use_colnames=True)\n",
    "\n",
    "print(frequent_itemsets)"
   ]
  },
  {
   "cell_type": "code",
   "execution_count": null,
   "id": "5ecd6dce-9dbc-42b0-b276-bf687981aa92",
   "metadata": {},
   "outputs": [],
   "source": []
  }
 ],
 "metadata": {
  "kernelspec": {
   "display_name": "Python 3 (ipykernel)",
   "language": "python",
   "name": "python3"
  },
  "language_info": {
   "codemirror_mode": {
    "name": "ipython",
    "version": 3
   },
   "file_extension": ".py",
   "mimetype": "text/x-python",
   "name": "python",
   "nbconvert_exporter": "python",
   "pygments_lexer": "ipython3",
   "version": "3.11.7"
  }
 },
 "nbformat": 4,
 "nbformat_minor": 5
}

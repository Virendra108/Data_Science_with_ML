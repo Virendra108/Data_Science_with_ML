{
 "cells": [
  {
   "cell_type": "code",
   "execution_count": 1,
   "id": "6f29ea8f-7729-4da8-94a6-85c2b84a7523",
   "metadata": {},
   "outputs": [
    {
     "name": "stdout",
     "output_type": "stream",
     "text": [
      "<class 'pandas.core.frame.DataFrame'>\n",
      "RangeIndex: 506 entries, 0 to 505\n",
      "Data columns (total 19 columns):\n",
      " #   Column               Non-Null Count  Dtype  \n",
      "---  ------               --------------  -----  \n",
      " 0   Marketing expense    506 non-null    float64\n",
      " 1   Production expense   506 non-null    float64\n",
      " 2   Multiplex coverage   506 non-null    float64\n",
      " 3   Budget               506 non-null    float64\n",
      " 4   Movie_length         506 non-null    float64\n",
      " 5   Lead_ Actor_Rating   506 non-null    float64\n",
      " 6   Lead_Actress_rating  506 non-null    float64\n",
      " 7   Director_rating      506 non-null    float64\n",
      " 8   Producer_rating      506 non-null    float64\n",
      " 9   Critic_rating        506 non-null    float64\n",
      " 10  Trailer_views        506 non-null    int64  \n",
      " 11  3D_available         506 non-null    object \n",
      " 12  Time_taken           506 non-null    float64\n",
      " 13  Twitter_hastags      506 non-null    float64\n",
      " 14  Genre                506 non-null    object \n",
      " 15  Avg_age_actors       506 non-null    int64  \n",
      " 16  Num_multiplex        506 non-null    int64  \n",
      " 17  Collection           506 non-null    int64  \n",
      " 18  Start_Tech_Oscar     506 non-null    int64  \n",
      "dtypes: float64(12), int64(5), object(2)\n",
      "memory usage: 75.2+ KB\n"
     ]
    }
   ],
   "source": [
    "import pandas as pd \n",
    "df=pd.read_csv(\"movies_classification.csv\")\n",
    "df.info()\n",
    "#Movie classification dataset contains columns which are object\n",
    "#hence convert into dummies"
   ]
  },
  {
   "cell_type": "code",
   "execution_count": 2,
   "id": "000327d2-3a8a-4fbe-a3bb-9cee36e5a951",
   "metadata": {},
   "outputs": [],
   "source": [
    "df=pd.get_dummies(df,columns=[\"3D_available\",\"Genre\"],drop_first=True)"
   ]
  },
  {
   "cell_type": "code",
   "execution_count": 3,
   "id": "f50f7774-5ac3-4543-aca0-33169d97fb4f",
   "metadata": {},
   "outputs": [],
   "source": [
    "#Let us check assign input and output variables \n",
    "predictors=df.loc[:,df.columns!=\"Start_Tech_Oscar\"]\n",
    "#Except Start_Tech_Oscar.rest all columns are assigned as predictors \n",
    "#predictors has got 20 columns"
   ]
  },
  {
   "cell_type": "code",
   "execution_count": 4,
   "id": "03cc57fc-fff3-402f-a83f-d755aee9dff0",
   "metadata": {},
   "outputs": [],
   "source": [
    "target=df[\"Start_Tech_Oscar\"]"
   ]
  },
  {
   "cell_type": "code",
   "execution_count": 9,
   "id": "c5987261-2c9f-49fb-88a8-f2dff62d11c8",
   "metadata": {},
   "outputs": [],
   "source": [
    "#let us partition the dataset \n",
    "from sklearn.model_selection import train_test_split\n",
    "X_train,X_test,y_train,y_test=train_test_split(predictors,target,test_size=0.3)"
   ]
  },
  {
   "cell_type": "code",
   "execution_count": 10,
   "id": "9fa452fa-1085-4d40-b899-f42b516e0b89",
   "metadata": {},
   "outputs": [],
   "source": [
    "#MOdel Selection\n",
    "from sklearn.ensemble import RandomForestClassifier\n",
    "rand_for=RandomForestClassifier(n_estimators=500,n_jobs=1,random_state=42)\n",
    "#n_estimator:It is number of trees in the forest,always in range 500 to 1000\n",
    "#n_jobs:1 means number of jobs running parallel=1,if is -1 then multiple\n",
    "#random_state:controls randomness in bootstrapping "
   ]
  },
  {
   "cell_type": "code",
   "execution_count": 11,
   "id": "434e8598-c5b0-4ead-a374-c28f3d2fb336",
   "metadata": {},
   "outputs": [],
   "source": [
    "#Bootstrapping is getting samples\n",
    "rand_for.fit(X_train,y_train)\n",
    "pred_X_train=rand_for.predict(X_train)\n",
    "pred_X_test=rand_for.predict(X_test)"
   ]
  },
  {
   "cell_type": "code",
   "execution_count": 12,
   "id": "896e497a-87eb-4662-bcc4-76fe27e4dbd3",
   "metadata": {},
   "outputs": [
    {
     "data": {
      "text/plain": [
       "0.6710526315789473"
      ]
     },
     "execution_count": 12,
     "metadata": {},
     "output_type": "execute_result"
    }
   ],
   "source": [
    "#le us check the performance of the model \n",
    "from sklearn.metrics import accuracy_score,confusion_matrix\n",
    "accuracy_score(pred_X_test,y_test)"
   ]
  },
  {
   "cell_type": "code",
   "execution_count": 13,
   "id": "b7c723f6-1207-4528-957b-1c4d1de5e687",
   "metadata": {},
   "outputs": [
    {
     "data": {
      "text/plain": [
       "array([[50, 32],\n",
       "       [18, 52]], dtype=int64)"
      ]
     },
     "execution_count": 13,
     "metadata": {},
     "output_type": "execute_result"
    }
   ],
   "source": [
    "confusion_matrix(pred_X_test,y_test)"
   ]
  },
  {
   "cell_type": "code",
   "execution_count": 16,
   "id": "832ed2f5-ea67-4572-b8ab-9cebcc40c749",
   "metadata": {},
   "outputs": [
    {
     "data": {
      "text/plain": [
       "1.0"
      ]
     },
     "execution_count": 16,
     "metadata": {},
     "output_type": "execute_result"
    }
   ],
   "source": [
    "#For training dataset\n",
    "accuracy_score(pred_X_train,y_train)"
   ]
  },
  {
   "cell_type": "code",
   "execution_count": 17,
   "id": "cef8e9f6-e876-4466-96b5-c13dc3802a44",
   "metadata": {},
   "outputs": [
    {
     "data": {
      "text/plain": [
       "array([[162,   0],\n",
       "       [  0, 192]], dtype=int64)"
      ]
     },
     "execution_count": 17,
     "metadata": {},
     "output_type": "execute_result"
    }
   ],
   "source": [
    "confusion_matrix(pred_X_train,y_train)"
   ]
  },
  {
   "cell_type": "code",
   "execution_count": null,
   "id": "ca99a367-5344-49cd-b308-ea1120ac0d62",
   "metadata": {},
   "outputs": [],
   "source": []
  }
 ],
 "metadata": {
  "kernelspec": {
   "display_name": "Python 3 (ipykernel)",
   "language": "python",
   "name": "python3"
  },
  "language_info": {
   "codemirror_mode": {
    "name": "ipython",
    "version": 3
   },
   "file_extension": ".py",
   "mimetype": "text/x-python",
   "name": "python",
   "nbconvert_exporter": "python",
   "pygments_lexer": "ipython3",
   "version": "3.11.7"
  }
 },
 "nbformat": 4,
 "nbformat_minor": 5
}
